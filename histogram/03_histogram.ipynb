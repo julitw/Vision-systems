{
 "cells": [
  {
   "cell_type": "markdown",
   "metadata": {
    "pycharm": {
     "name": "#%% md\n"
    }
   },
   "source": [
    "# Histogram obrazu. Wyrównywanie histogramu."
   ]
  },
  {
   "cell_type": "markdown",
   "metadata": {
    "collapsed": false,
    "pycharm": {
     "name": "#%% md\n"
    }
   },
   "source": [
    "## Cel ćwiczenia\n",
    "\n",
    "- Zapoznanie z pojęciem histogramu obrazu (w odcieniach szarości i kolorze).\n",
    "- Zapoznanie z metodami modyfikacji histogramu (rozciąganie, wyrównywanie, dopasowywanie)."
   ]
  },
  {
   "cell_type": "markdown",
   "metadata": {
    "collapsed": false,
    "pycharm": {
     "name": "#%% md\n"
    }
   },
   "source": [
    "## Histogram\n",
    "\n",
    "- Histogramem obrazu nazywamy wykres słupkowy zdefiniowany następującymi zależnościami:<br>\n",
    "\\begin{equation}\n",
    "h(i) = \\sum_{x=0}^{N-1} \\sum_{y=0}^{M-1} p(i,(x,y))\n",
    "\\end{equation}<br>\n",
    "gdzie:<br>\n",
    "\\begin{equation}\n",
    "p(i) =  \\left\\{\n",
    "  \\begin{array}{l l}\n",
    "    1 & \\quad \\text{gdy} f(x,y) = i\\\\\n",
    "    0 & \\quad \\text{gdy} f(x,y) \\ne i\n",
    "  \\end{array} \\right.\n",
    "\\end{equation}\n",
    "\n",
    "- Inaczej mówiąc, histogram zawiera informacje na temat tego ile pikseli o danym poziomie jasności występuje na obrazie (w przypadku obrazu w odcieniach szarości). Określa się to także rozkładem empirycznym cechy.\n",
    "\n",
    "- Często wykorzystuje się tzw. znormalizowaną postać histogramu  – wszystkie wartości $h(i)$ są dzielone przez liczbę pikseli na obrazie.\n",
    "Otrzymana w ten sposób wielkość to gęstość prawdopodobieństwa wystąpienia na obrazie pikseli o odcieniu $i$.\n",
    "\n",
    "- Histogram można zdefiniować również dla obrazów kolorowych.\n",
    "Otrzymujemy wtedy 3 histogramy – po jednym dla danej składowej: R,G,B (lub HSV, YCbCr, itp.) lub histogram trójwymiarowy.\n",
    "\n",
    "- Histogram jest bardzo użyteczny w przetwarzaniu i analizie obrazów.\n",
    "Wykorzystywany jest przy binaryzacji (szerzej na jednym z kolejnych laboratoriów) oraz do oceny jakości (dynamiki, kontrastu) obrazu.\n",
    "W idealnym przypadku wszystkie poziomy jasności w obrazie powinny być wykorzystane (i to najlepiej w miarę jednolicie)  – obrazowo mówiąc histogram powinien rozciągać się od 0  – 255 (obraz w skali szarości).\n",
    "\n",
    "- W przypadku gdy  wykorzystujemy jedynie fragment dostępnego zakresu (wąski histogram)  lub histogram nie jest jednolity (występują dominujące grupy pikseli) obraz ma dość słaby kontrast.\n",
    "Cechę tę można poprawić stosując tzw. rozciąganie albo wyrównywanie histogramu (ang. *histogram equalization*).</div>"
   ]
  },
  {
   "cell_type": "markdown",
   "metadata": {
    "collapsed": false,
    "pycharm": {
     "name": "#%% md\n"
    }
   },
   "source": [
    "## Histogram dla obrazów w odcieniach szarości\n",
    "\n",
    "1. Zaimportuj potrzebne biblioteki: *OpenCV*, *pyplot* z *matplotlib* i *numpy*.\n",
    "        import cv2\n",
    "        from matplotlib import pyplot as plt\n",
    "        import numpy as np\n",
    "2. Wczytaj obrazy *lenaX.bmp* w skali szarości. *X* jest numerem wczytywanego obrazu (1 - 4).\n",
    "        I = cv2.imread('lenaX.bmp', cv2.IMREAD_GRAYSCALE)\n",
    "3. Oblicz histogram wczytanego obrazu wykorzystując funkcję `cv2.calcHist`.\n",
    "    - Pierwszym argumentem jest obraz, dla którego obliczony zostanie histogram.\n",
    "    Należy go przekazać w nawiasie kwadratowym.\n",
    "    - Drugim argumentem jest numer kanału, dla którego ma zostać obliczony histogram.\n",
    "    Również powinien być przekazany w nawiasie kwadratowym.\n",
    "    - Trzeci argument oznacza maskę, czyli obszar, dla którego ma zostać wyznaczony histogram.\n",
    "    Aby obliczyć dla całego obrazu należy przekazać *None*.\n",
    "    - Czwartym argumentem jest rozmiar histogramu (liczba przedziałów).\n",
    "    Argument powinien być w nawiasie kwadratowym. Dla pełnej skali należy przekazać wartość *256*.\n",
    "    - Ostatnim argumentem jest zakres wartości. Dla obrazów typu *uint8* powinien on wynosić *[0, 256]*.\n",
    "    - Funkcja zwraca obliczony histogram.\n",
    "4. Wyświetl wczytane obrazy i ich histogramy w jednym oknie. Użyj `plt.subplot()` w celu stworzenia siatki wykresów.\n",
    "        figLena, axsLena = plt.subplots(2, 4)\n",
    "Rozmiar utworzonego okna można zmienić wykorzystując instrukcję (uwaga w calach -  1 cal to 2.54cm):\n",
    "        figLena.set_size_inches(20, 10)\n",
    "Przykładowe wyświetlenie obrazu:\n",
    "        axsLena[0, 0].imshow(I1, 'gray', vmin=0, vmax=256)\n",
    "        axsLena[0, 0].axis('off')\n",
    "Przykładowe wyświetlenie histogramu:\n",
    "        axsLena[1, 0].plot(H1)\n",
    "        axsLena[1, 0].grid()\n",
    "5. Przeanalizuj (dokładnie) związek histogramu z jasnością i ostrością obrazu (tu rozumianą jako subiektywne odczucie)."
   ]
  },
  {
   "cell_type": "code",
   "execution_count": null,
   "metadata": {
    "pycharm": {
     "name": "#%% Zadanie 1 - wyświetlanie\n"
    }
   },
   "outputs": [],
   "source": [
    "import cv2\n",
    "import os\n",
    "from matplotlib import pyplot as plt\n",
    "import numpy as np\n",
    "\n",
    "if not os.path.exists(\"lena1.bmp\") :\n",
    "    !wget https://raw.githubusercontent.com/vision-agh/poc_sw/master/03_Histogram/lena1.bmp --no-check-certificate\n",
    "\n",
    "if not os.path.exists(\"lena2.bmp\") :\n",
    "    !wget https://raw.githubusercontent.com/vision-agh/poc_sw/master/03_Histogram/lena2.bmp --no-check-certificate\n",
    "\n",
    "if not os.path.exists(\"lena3.bmp\") :\n",
    "    !wget https://raw.githubusercontent.com/vision-agh/poc_sw/master/03_Histogram/lena3.bmp --no-check-certificate\n",
    "\n",
    "if not os.path.exists(\"lena4.bmp\") :\n",
    "    !wget https://raw.githubusercontent.com/vision-agh/poc_sw/master/03_Histogram/lena4.bmp --no-check-certificate\n",
    "\n",
    "Lena1 = cv2.imread('lena1.bmp',cv2.IMREAD_GRAYSCALE)\n",
    "Lena2 = cv2.imread('lena2.bmp',cv2.IMREAD_GRAYSCALE)\n",
    "Lena3 = cv2.imread('lena3.bmp',cv2.IMREAD_GRAYSCALE)\n",
    "Lena4 = cv2.imread('lena4.bmp',cv2.IMREAD_GRAYSCALE)\n",
    "\n",
    "\n",
    "H1 = cv2.calcHist([Lena1],[0],None,[256],[0,256])\n",
    "H2 = cv2.calcHist([Lena2], [0], None, [256], [0,256])\n",
    "H3 = cv2.calcHist([Lena3], [0], None, [256], [0,256])\n",
    "H4 = cv2.calcHist([Lena4], [0], None, [256],[0,256])\n",
    "\n",
    "tab_of_im = [Lena1, Lena2, Lena3, Lena4]\n",
    "tab_of_H = [H1,H2,H3,H4]\n",
    "\n",
    "figLena, axsLena = plt.subplots(2, 4)\n",
    "figLena.set_size_inches(20, 10)\n",
    "\n",
    "i=0\n",
    "for im in tab_of_im:\n",
    "    axsLena[0, i].imshow(im, 'gray')\n",
    "    axsLena[0, i].axis('off')\n",
    "    i = i+1\n",
    "\n",
    "i = 0\n",
    "for h in tab_of_H:\n",
    "    axsLena[1, i].plot(h)\n",
    "    axsLena[1, i].grid()\n",
    "    i = i+1"
   ]
  },
  {
   "cell_type": "markdown",
   "metadata": {},
   "source": [
    "Wraz ze wzrostem liczby ciemnych pikseli o niższych wartościach obraz staje się ciemniejszy- analogicznie dla pikseli o wyższych wartościach ( wtedy obraz jaśniejszy). Im więcej pikseli skumulowanych jest bliżej siebie na osi x, tym obraz staje się mniej ostry."
   ]
  },
  {
   "cell_type": "markdown",
   "metadata": {
    "collapsed": false,
    "pycharm": {
     "name": "#%% md\n"
    }
   },
   "source": [
    "## Rozciąganie histogramu\n",
    "\n",
    "Najprostszą metodą poprawienia jakości obrazu jest tzw. rozciągnięcie histogramu.\n",
    "Polega na przeskalowaniu wartości pikseli w obrazie tak, aby wykorzystać cały dostępny zakres [0-255] (oczywiście w przypadku obrazów w odcieniach szarości w reprezentacji 8-bitowej).\n",
    "\n",
    "1. Wczytaj obraz *hist1.bmp* w skali szarości.\n",
    "Oblicz i wyświetl histogram rozpatrywanego obrazu (na wspólnym rysunku z obrazem).\n",
    "Zwróć uwagę na ilość widocznych szczegółów.\n",
    "2. Rozciągnij histogram obrazu. W tym celu można wykorzystać funkcję `cv2.normalize`.\n",
    "    - Pierwszym argumentem funkcji jest obraz poddawany operacji.\n",
    "    - Drugim argumentem jest tablica do której zostanie wpisany wynik.\n",
    "    Należy ją najpierw zainicjalizować.\n",
    "    Najlepiej zrobić to funkcją `np.zeros`, której pierwszym argumentem jest rozmiar obrazu (`I.shape`), a drugim typ danych (`uint8`).\n",
    "    Można również przekazać `None`, a wynik przypisać do nowej zmiennej.\n",
    "    - Trzecim argumentem jest minimalna wartość po normalizacji.\n",
    "    - Czwartym argumentem jest wartość maksymalna po normalizacji.\n",
    "    - Ostatnim argumentem jest typ wykorzystanej normy (uogólnienie pojęcia długości wektora).\n",
    "    Należy wykorzystać normę `cv2.NORM_MINMAX`.\n",
    "3. Rezultat operacji wyświetl (obraz i jego histogram).\n",
    "4. Czy ilość \"widocznych\" szczegółów uległa zmianie?"
   ]
  },
  {
   "cell_type": "code",
   "execution_count": null,
   "metadata": {
    "collapsed": false,
    "pycharm": {
     "name": "#%% Zadanie 2 - rozciąganie\n"
    }
   },
   "outputs": [],
   "source": [
    "if not os.path.exists(\"hist1.bmp\") :\n",
    "    !wget https://raw.githubusercontent.com/vision-agh/poc_sw/master/03_Histogram/hist1.bmp --no-check-certificate\n",
    "\n",
    "if not os.path.exists(\"hist2.bmp\") :\n",
    "    !wget https://raw.githubusercontent.com/vision-agh/poc_sw/master/03_Histogram/hist2.bmp --no-check-certificate\n",
    "\n",
    "if not os.path.exists(\"hist3.bmp\") :\n",
    "    !wget https://raw.githubusercontent.com/vision-agh/poc_sw/master/03_Histogram/hist3.bmp --no-check-certificate\n",
    "\n",
    "if not os.path.exists(\"hist4.bmp\") :\n",
    "    !wget https://raw.githubusercontent.com/vision-agh/poc_sw/master/03_Histogram/hist4.bmp --no-check-certificate\n",
    "\n",
    "hist1 = cv2.imread('hist1.bmp',cv2.IMREAD_GRAYSCALE)\n",
    "H1 = cv2.calcHist([hist1],[0],None,[256],[0,256])\n",
    "\n",
    "new_hist1 = np.zeros(np.shape(hist1),dtype = np.uint8)\n",
    "\n",
    "norm_hist1= cv2.normalize(hist1, new_hist1,0,255, cv2.NORM_MINMAX)\n",
    "H2 = cv2.calcHist([norm_hist1],[0],None,[256],[0,256])\n",
    "\n",
    "\n",
    "\n",
    "figHist1, (ax1,ax2) = plt.subplots(1,2,figsize=(16,6))\n",
    "ax1.imshow(hist1, 'gray', vmin=0, vmax=256)\n",
    "ax1.axis('off')\n",
    "ax2.plot(H1)\n",
    "ax2.grid()\n",
    "\n",
    "figHist1, (ax1,ax2) = plt.subplots(1,2,figsize=(16,6))\n",
    "ax1.imshow(norm_hist1, 'gray', vmin=0, vmax=256)\n",
    "ax1.axis('off')\n",
    "ax2.plot(H2)\n",
    "ax2.grid()"
   ]
  },
  {
   "cell_type": "markdown",
   "metadata": {},
   "source": [
    "Wraz z rozciągnięciem histogramu, liczba szczegółów na obrazie zwiększyła się."
   ]
  },
  {
   "cell_type": "markdown",
   "metadata": {
    "collapsed": false,
    "pycharm": {
     "name": "#%% md\n"
    }
   },
   "source": [
    "## Wyrównywanie histogramu\n",
    "\n",
    "<div style=\"text-align: justify\">\n",
    "Bardziej zaawansowaną metodą jest tzw. wyrównywanie histogramu (ang. *histogram equalization – HE*).\n",
    "Idea jest następująca: z punktu widzenia lepszego wykorzystania dostępnych poziomów jasności pożądane jest rozciągnięcie \"szczytów\" histogramu, a~skompresowanie \"dolin\" tak, aby taka sama liczba pikseli reprezentowana była przez każdy z dostępnych poziomów jasności (a przynjamniej przybliżona).\n",
    "Warto zwrócić uwagę, że takie przekształcenie powoduje częściową utratę informacji o szczegółach w obszarach \"dolin\".\n",
    "Inaczej mówiąc, dążymy do sytuacji, aby histogram był względnie jednostajny.\n",
    "Operacją, która pozwala wykonać wyrównywanie histogramu, jest przekształcenie LUT z funkcją przejścia w postaci histogramu skumulowanego danego obrazu.</div><br>\n",
    "\n",
    "<div style=\"text-align: justify\">\n",
    "Histogram skumulowany to funkcja obliczona na podstawie histogramu.\n",
    "Jej pierwszy element to liczba pikseli o odcieniu $0$.\n",
    "Kolejne wartości to liczba pikseli o odcieniach od $0$ do $n$.</div>\n",
    "\n",
    "\\begin{equation}\n",
    "C(n) = \\sum_{i=0}^{n} h(i)\n",
    "\\end{equation}\n",
    "\n",
    "<div style=\"text-align: justify\">\n",
    "Jeżeli histogram jest w postaci znormalizowanej (gęstość rozkładu prawdopodobieństwa) to histogram skumulowany stanowi dystrybuantę rozkładu prawdopodobieństwa.</div><br>\n",
    "\n",
    "1. Wyznacz histogram skumulowany dla obrazu *hist1.bmp*.\n",
    "W tym celu wykorzystaj metodę `cumsum` dla histogramu wczytanego obrazu.\n",
    "Nie przyjmuje ona żadnych argumentów, a zwraca skumulowane wartości tablicy, dla której została użyta.\n",
    "Histogram należy wyliczyć dla **obrazka wejściowego**, a nie dla wyniku rozciągania.\n",
    "2. Histogram skumulowany wyświetl razem z histogramem zwykłym na jednym wykresie (nie obok siebie).\n",
    "Na potrzeby wyświetlenia przeskaluj histogram skumulowany tak, by miał taką samą wartość maksymalną jak zwykły histogram.\n",
    "W tym celu wykorzystaj metodę `max`.\n",
    "3. Wyświetlenie kilku linii na jednym wykresie może być zrealizowane w następujący sposób:\n",
    "        figHistCum, axsHistCum = plt.subplots()\n",
    "\n",
    "        axsHistCum.plot(HHist)\n",
    "        axsHistCum.plot(CHistNorm)\n",
    "        axsHistCum.grid()\n",
    "4. Teraz zaimplementuj klasyczny algorytm wyrównywania histogramu.\n",
    "Wykorzystać należy obliczony histogram skumulowany.\n",
    "Należy go przeskalować w taki sposób aby na jego podstawie zrealizować przekształcenie LUT, czyli do zakresu 0 - 255.\n",
    "\n",
    ">Uwaga. Opisany algorytm wyrównywania histogramu jest wersją uproszczoną.\n",
    ">W wersji pełnej należy podczas skalowania tablicy przekodowań LUT pominąć elementy równe *0*.\n",
    ">\n",
    ">W tym celu należy wykorzystać funkcje `np.ma.masked_equal` i `np.ma.filled`.\n",
    ">Pierwsza służy do ukrywania elementów tablicy, natomiast druga zamienia ukryte elementy na podaną wartość.\n",
    ">W tym przypadku elementem ukrywanym i wpisywaną wartością byłoby *0*.\n",
    "\n",
    "5. Na kolejnym rysunku wyświetl obrazek po przekształceniu, jego histogram oraz histogram skumulowany.\n",
    "Co szczególnego można powiedzieć o jego histogramie i histogramie skumulowanym?\n",
    "6. W bibliotece *OpenCV* dostępna jest funkcja wykonująca wyrównywanie histogramu `cv2.equalizeHist`.\n",
    "Jej argumentem jest obraz, którego histogram zostanie wyrównany. Zwraca natomiast obraz wynikowy.\n",
    "Na kolejnym rysunku wyświetl wynik funkcji, jego histogram oraz histogram skumulowany.\n",
    "7. W wykorzystywanej bibliotece zaimplementowana jest również metoda adaptacyjnego wyrównywania histogramu algorytmem CLAHE (ang. *Contrast Limited Adaptive Histogram Equalization*}.\n",
    "   Kilka słów wyjaśnienia.\n",
    "   Wadą poznanej metody HE jest jej \"globalność\" rozumiana jako nieuwzględnianie lokalnych właściwości obrazu.\n",
    "   Dlatego też powstała metoda adaptacyjnego wyrównywania histogramu (AHE).\n",
    "   Jest ona spotykana w dwóch wariantach:\n",
    "   - dla każdego piksela niezależnie, w pewnym jego otoczeniu, wyznaczany jest histogram i przeprowadzane wyrównywanie.\n",
    "     Jak nietrudno się domyślić rozwiązanie jest dość kosztowne obliczeniowo.\n",
    "   - obraz wejściowy dzielony jest na nienachodzące na siebie prostokątne okna.\n",
    "     W każdym z okien obliczany jest histogram i przeprowadzane jest wyrównywanie.\n",
    "     W celu eliminacji błędów na granicy okien, stosuje się interpolację.\n",
    "\n",
    "   Metoda AHE ma jednak tą wadę, że w obszarach jednorodnych wzmacnia szum.\n",
    "   Dlatego też zaproponowano rozwiązanie CLAHE, które zakłada ograniczenie kontrastu (CL).\n",
    "   W metodzie definiuje się maksymalną wartość danego przedziału histogramu (próg ograniczenia kontrastu).\n",
    "   Piksele, które przekraczają próg są następnie równomiernie rozdzielane pomiędzy poszczególne przedziały.\n",
    "   Bardziej szczegółowy opis obu metod dostępny jest na [Wikipedii](https://en.wikipedia.org/wiki/Adaptive_histogram_equalization).\n",
    "\n",
    "8.W celu użycia algorytmu należy wywołać funkcję `cv2.createCLAHE`.\n",
    "    - Pierwszym parametrem jest próg ograniczenia kontrastu.\n",
    "    - Drugi parametr definiuje na ile prostokątów zostanie podzielony obraz w rzęch i kolumnach.\n",
    "    - Zwracany jest zainicjalizowany *smart pointer* do klasy `cv::CLAHE`.\n",
    "9. Aby wykonać wyrównywanie należy użyć metody `apply`.\n",
    "Jej argumentem jest obraz wejściowy. Zwracany jest obraz o zmodyfikowanym histogramie.\n",
    "10. Przetestuj różne parametry algorytmu CLAHE.\n",
    "11. W kolejnym etapie należy przetestować operacje (rozciąganie, wyrównywanie (HE) i adaptacyjne wyrównywanie CLAHE)  na histogramie dla obrazów rzeczywistych. *hist2.bmp*, *hist3.bmp*, *hist4.jpg*.\n",
    "W jednym oknie wyświetl: obraz oryginalny, rozciąganie, wyrównywanie HE oraz wyrównywanie CLAHE."
   ]
  },
  {
   "cell_type": "code",
   "execution_count": null,
   "metadata": {
    "collapsed": false,
    "pycharm": {
     "name": "#%% Zadanie 3 - histogram skumulowany\n"
    }
   },
   "outputs": [],
   "source": [
    "#1/2/3\n",
    "\n",
    "H1_cumsum = H1.cumsum()\n",
    "tab_H1_cumsum_norm = np.zeros(np.shape(H1_cumsum))\n",
    "H1_cumsum_norm= cv2.normalize(H1_cumsum, tab_H1_cumsum_norm,0, H1.max(), cv2.NORM_MINMAX)\n",
    "\n",
    "\n",
    "figHistCum, axsHistCum = plt.subplots()\n",
    "axsHistCum.plot(H1)\n",
    "axsHistCum.plot(H1_cumsum_norm)\n",
    "axsHistCum.legend(['histogram','histogram skumulowany'])\n",
    "axsHistCum.grid()"
   ]
  },
  {
   "cell_type": "code",
   "execution_count": null,
   "metadata": {
    "collapsed": false,
    "pycharm": {
     "name": "#%% Zadanie 3 - wyrównywanie\n"
    }
   },
   "outputs": [],
   "source": [
    "#4/5\n",
    "\n",
    "def hist_equalising(image):\n",
    "    H = cv2.calcHist([image],[0],None,[256],[0,256])\n",
    "    H_cumsum = H.cumsum()\n",
    "    H_lut = np.ma.masked_equal(H_cumsum,0)\n",
    "    H_lut = (H_lut - H_lut.min())*255/(H_lut.max()-H_lut.min())\n",
    "    H_lut = np.ma.filled(H_lut,0).astype('uint8')\n",
    "    hist_norm=cv2.normalize(H_lut,None,0,255,cv2.NORM_MINMAX)\n",
    "\n",
    "    lut_hist=cv2.LUT(image,hist_norm)\n",
    "\n",
    "    new_hist = cv2.calcHist([lut_hist],[0],None,[256],[0,256])\n",
    "    new_hist_cumsum = new_hist.cumsum()\n",
    "\n",
    "    f, (ax1,ax2,ax3) = plt.subplots(1,3,figsize=(20,6))\n",
    "    ax1.imshow(lut_hist, 'gray',vmin=0, vmax=256)\n",
    "    ax1.axis('off')\n",
    "    ax2.plot(new_hist)\n",
    "    ax2.grid()\n",
    "    ax3.plot(new_hist_cumsum)\n",
    "    ax3.grid()\n",
    "    ax1.set_title('Obraz')\n",
    "    ax2.set_title('Histogram')\n",
    "    ax3.set_title('Histogram skumulowany')\n",
    "\n",
    "hist_equalising(hist1)\n"
   ]
  },
  {
   "cell_type": "markdown",
   "metadata": {},
   "source": [
    "Liczba szczegółów na obrazie zwiększyła się, histogram skumulowany można przybliżyć linią prostą - licza pikseli o danej wartości zmienia się proporcjonalnie do zmiany wartości tych pikseli."
   ]
  },
  {
   "cell_type": "code",
   "execution_count": null,
   "metadata": {
    "collapsed": false,
    "pycharm": {
     "name": "#%% Zadanie 3 - wyrównywanie OpenCV\n"
    }
   },
   "outputs": [],
   "source": [
    "#6\n",
    "equal=cv2.equalizeHist(hist1)\n",
    "figEqual, (ax1,ax2,ax3) = plt.subplots(1,3,figsize=(16,6))\n",
    "ax1.imshow(equal, 'gray',vmin=0, vmax=256)\n",
    "ax1.axis('off')\n",
    "ax2.plot(cv2.calcHist([equal],[0],None,[256],[0,256]))\n",
    "ax2.grid()\n",
    "ax3.plot((cv2.calcHist([equal],[0],None,[256],[0,256])).cumsum())\n",
    "ax3.grid()"
   ]
  },
  {
   "cell_type": "code",
   "execution_count": null,
   "metadata": {
    "collapsed": false,
    "pycharm": {
     "name": "#%% Zadanie 3 - CLAHE\n"
    }
   },
   "outputs": [],
   "source": [
    "\n",
    "#7/8/9/10\n",
    "\n",
    "def clahe(image,clipllimit,titlegridsize):\n",
    "\n",
    "    clahe=cv2.createCLAHE(clipLimit=clipllimit, tileGridSize=titlegridsize)\n",
    "    clahe=clahe.apply(image)\n",
    "    figClahe, (ax1,ax2,ax3) = plt.subplots(1,3,figsize=(16,6))\n",
    "    ax1.imshow(clahe, 'gray',vmin=0, vmax=256)\n",
    "    ax1.axis('off')\n",
    "    ax2.plot(cv2.calcHist([clahe],[0],None,[256],[0,256]))\n",
    "    ax2.grid()\n",
    "    ax3.plot((cv2.calcHist([clahe],[0],None,[256],[0,256])).cumsum())\n",
    "    ax3.grid()\n",
    "\n",
    "clahe(hist1,5,(7,7))\n",
    "clahe(hist1,20,(10,10))\n"
   ]
  },
  {
   "cell_type": "code",
   "execution_count": null,
   "metadata": {},
   "outputs": [],
   "source": [
    "#11\n",
    "def operations(image):\n",
    "    H1 = cv2.calcHist([image],[0],None,[256],[0,256])\n",
    "    \n",
    "    new_hist1 = np.zeros(np.shape(image),dtype = np.uint8)\n",
    "    norm_hist1= cv2.normalize(image, new_hist1,0,255, cv2.NORM_MINMAX)\n",
    "\n",
    "    equal=cv2.equalizeHist(image)\n",
    "\n",
    "    clahe=cv2.createCLAHE(clipLimit=10, tileGridSize=(10,10))\n",
    "    clahe=clahe.apply(image)\n",
    "\n",
    "    figHist1, (ax1,ax2,ax3, ax4) = plt.subplots(1,4,figsize=(16,6))\n",
    "    ax1.imshow(image, 'gray',vmin=0, vmax=256)\n",
    "    ax1.axis('off')\n",
    "    ax1.set_title('Obraz oryginalny')\n",
    "    ax2.imshow(norm_hist1, 'gray',vmin=0, vmax=256)\n",
    "    ax2.axis('off')\n",
    "    ax2.set_title('Obraz rozciągniety')\n",
    "    ax3.imshow(equal, 'gray',vmin=0, vmax=256)\n",
    "    ax3.axis('off')\n",
    "    ax3.set_title('Obraz wyrównany metodą HE')\n",
    "    ax4.imshow(clahe, 'gray',vmin=0, vmax=256)\n",
    "    ax4.axis('off')\n",
    "    ax4.set_title('Obraz wyrównany metodą CLAHE')\n",
    "\n",
    "hist2 = cv2.imread('hist2.bmp',cv2.IMREAD_GRAYSCALE)\n",
    "hist3= cv2.imread('hist3.bmp',cv2.IMREAD_GRAYSCALE)\n",
    "hist4 = cv2.imread('hist4.bmp',cv2.IMREAD_GRAYSCALE)\n",
    "\n",
    "tab_of_im = [hist2,hist3,hist4]\n",
    "for im in tab_of_im:\n",
    "    operations(im)\n"
   ]
  },
  {
   "cell_type": "markdown",
   "metadata": {},
   "source": [
    "Najlepsze efekty uzyskano metodami HE i CLAHE - są one jaśniejsze i bardziej szczegółowe."
   ]
  },
  {
   "cell_type": "markdown",
   "metadata": {
    "collapsed": false,
    "pycharm": {
     "name": "#%% md\n"
    }
   },
   "source": [
    "## Histogram dla obrazów kolorowych i jego wyrównywanie\n",
    "\n",
    "1. Wczytaj obraz *lenaRGB.bmp*.\n",
    "2. Wykonaj konwersję przestrzeni barw z BGR do RGB.\n",
    "3. Wyświetl wczytany obraz oraz histogram dla każdej składowej przestrzeni barw.\n",
    "W tym celu można użyć drugiego argumentu wykorzystywanej funkcji (numer kanału).\n",
    "4. Wykonaj wyrównywanie dla każdej składowej obrazu.\n",
    "Połącz otrzymane składowe w nowy obraz i wyświetl go.\n",
    "Jaka jest zasadnicza wada takiego podejścia?\n",
    "5. Przekształć obraz wejściowy do przestrzeni HSV (flaga `cv2.COLOR_BGR2HSV`).\n",
    "Wyświetl histogramy poszczególnych składowych.\n",
    "Manipulacji dokonujemy na składowej odpowiadającej za jasność, czyli V.\n",
    "Wykonaj wyrównywanie histogramu dla tej składowej.\n",
    "Dokonaj podmiany składowej V i wyświetl rezultat operacji.\n",
    "Uprzednio przeprowadź konwersję HSV->RGB (flaga `cv2.COLOR_HSV2RGB`).\n",
    "6. Wykonaj te same operacje dla obrazu *jezioro.jpg*."
   ]
  },
  {
   "cell_type": "code",
   "execution_count": null,
   "metadata": {
    "collapsed": false,
    "pycharm": {
     "name": "#%% Zadanie 4 - wyrównanie\n"
    }
   },
   "outputs": [],
   "source": [
    "if not os.path.exists(\"lenaRGB.bmp\") :\n",
    "    !wget https://raw.githubusercontent.com/vision-agh/poc_sw/master/03_Histogram/lenaRGB.bmp --no-check-certificate\n",
    "\n",
    "if not os.path.exists(\"jezioro.jpg\") :\n",
    "    !wget https://raw.githubusercontent.com/vision-agh/poc_sw/master/03_Histogram/jezioro.jpg --no-check-certificate\n",
    "\n",
    "lena = cv2.imread('lenaRGB.bmp')\n",
    "\n",
    "lena_color = cv2.cvtColor(lena, cv2.COLOR_BGR2RGB)\n",
    "\n",
    "hist1=cv2.calcHist([lena_color],[0],None,[256],[0,256])\n",
    "hist2=cv2.calcHist([lena_color],[1],None,[256],[0,256])\n",
    "hist3=cv2.calcHist([lena_color],[2],None,[256],[0,256])\n",
    "\n",
    "\n",
    "#3\n",
    "figHist1, (ax1,ax2,ax3,ax4) = plt.subplots(1,4,figsize=(20,6))\n",
    "ax1.imshow(lena_color, 'gray',vmin=0, vmax=256)\n",
    "ax1.axis('off')\n",
    "ax2.plot(hist1)\n",
    "ax2.grid()\n",
    "ax3.plot(hist2)\n",
    "ax3.grid()\n",
    "ax4.plot(hist3)\n",
    "ax4.grid()\n"
   ]
  },
  {
   "cell_type": "code",
   "execution_count": null,
   "metadata": {
    "collapsed": false,
    "pycharm": {
     "name": "#%% Zadanie 4 - HSV histogram\n"
    }
   },
   "outputs": [],
   "source": [
    "#4\n",
    "lena1_equal = cv2.equalizeHist(lena_color[:,:,0])\n",
    "lena2_equal = cv2.equalizeHist(lena_color[:,:,1])\n",
    "lena3_equal = cv2.equalizeHist(lena_color[:,:,2])\n",
    "\n",
    "sum=np.zeros(np.shape(lena_color))\n",
    "sum[:,:,0]=lena1_equal\n",
    "sum[:,:,1]=lena2_equal\n",
    "sum[:,:,2]=lena3_equal\n",
    "\n",
    "sum=cv2.normalize(sum,None,0,255,cv2.NORM_MINMAX)\n",
    "sum=sum.astype('uint8')\n",
    "\n",
    "plt.imshow(sum)\n",
    "plt.xticks([]), plt.yticks([])\n",
    "plt.show()\n"
   ]
  },
  {
   "cell_type": "code",
   "execution_count": null,
   "metadata": {
    "collapsed": false,
    "pycharm": {
     "name": "#%% Zadanie 4 - HSV wyrównanie\n"
    }
   },
   "outputs": [],
   "source": [
    "lena_hsv = cv2.cvtColor(lena, cv2.COLOR_BGR2HSV)\n",
    "\n",
    "lena_hsv_1=cv2.calcHist([lena_hsv],[0],None,[256],[0,256])\n",
    "lena_hsv_2=cv2.calcHist([lena_hsv],[1],None,[256],[0,256])\n",
    "lena_hsv_3=cv2.calcHist([lena_hsv],[2],None,[256],[0,256])\n",
    "\n",
    "f, (ax1,ax2,ax3) = plt.subplots(1,3,figsize=(25,8))\n",
    "ax1.plot(lena_hsv_1)\n",
    "ax1.grid()\n",
    "ax2.plot(lena_hsv_2)\n",
    "ax2.grid()\n",
    "ax3.plot(lena_hsv_3)\n",
    "ax3.grid()\n",
    "plt.show()\n",
    "\n",
    "lena_hsv_equalising=cv2.equalizeHist(lena_hsv[:,:,2])\n",
    "lena_hsv[:,:,2]=lena_hsv_equalising\n",
    "lena_rgb= cv2.cvtColor(lena_hsv, cv2.COLOR_HSV2RGB)\n",
    "\n",
    "plt.imshow(lena_rgb,vmin=0, vmax=256)\n",
    "plt.xticks([]), plt.yticks([])\n",
    "plt.show()\n",
    "\n"
   ]
  },
  {
   "cell_type": "code",
   "execution_count": null,
   "metadata": {},
   "outputs": [],
   "source": [
    "#dla jeziora\n",
    "jezioro = cv2.imread('jezioro.jpg')\n",
    "\n",
    "jezioro_color = cv2.cvtColor(jezioro, cv2.COLOR_BGR2RGB)\n",
    "\n",
    "hist1=cv2.calcHist([jezioro_color],[0],None,[256],[0,256])\n",
    "hist2=cv2.calcHist([jezioro_color],[1],None,[256],[0,256])\n",
    "hist3=cv2.calcHist([jezioro_color],[2],None,[256],[0,256])\n",
    "\n",
    "\n",
    "#3\n",
    "figHist1, (ax1,ax2,ax3,ax4) = plt.subplots(1,4,figsize=(20,6))\n",
    "ax1.imshow(jezioro_color,vmin=0, vmax=256)\n",
    "ax1.axis('off')\n",
    "ax2.plot(hist1)\n",
    "ax2.grid()\n",
    "ax3.plot(hist2)\n",
    "ax3.grid()\n",
    "ax4.plot(hist3)\n",
    "ax4.grid()\n",
    "\n",
    "\n"
   ]
  },
  {
   "cell_type": "code",
   "execution_count": null,
   "metadata": {},
   "outputs": [],
   "source": [
    "jezioro1_equal = cv2.equalizeHist(jezioro_color[:,:,0])\n",
    "jezioro2_equal = cv2.equalizeHist(jezioro_color[:,:,1])\n",
    "jezioro3_equal = cv2.equalizeHist(jezioro_color[:,:,2])\n",
    "\n",
    "sum=np.zeros(np.shape(jezioro_color))\n",
    "sum[:,:,0]=jezioro1_equal\n",
    "sum[:,:,1]=jezioro2_equal\n",
    "sum[:,:,2]=jezioro3_equal\n",
    "\n",
    "sum=cv2.normalize(sum,None,0,255,cv2.NORM_MINMAX)\n",
    "sum=sum.astype('uint8')\n",
    "\n",
    "plt.imshow(sum,vmin=0, vmax=256)\n",
    "plt.xticks([]), plt.yticks([])\n",
    "plt.show()"
   ]
  },
  {
   "cell_type": "code",
   "execution_count": null,
   "metadata": {},
   "outputs": [],
   "source": [
    "jezioro_hsv = cv2.cvtColor(jezioro, cv2.COLOR_BGR2HSV)\n",
    "\n",
    "jezioro_hsv_1=cv2.calcHist([jezioro_hsv],[0],None,[256],[0,256])\n",
    "jezioro_hsv_2=cv2.calcHist([jezioro_hsv],[1],None,[256],[0,256])\n",
    "jezioro_hsv_3=cv2.calcHist([jezioro_hsv],[2],None,[256],[0,256])\n",
    "\n",
    "f, (x1,x2,x3) = plt.subplots(1,3,figsize=(25,8))\n",
    "x1.plot(jezioro_hsv_1)\n",
    "x1.grid()\n",
    "x2.plot(jezioro_hsv_2)\n",
    "x2.grid()\n",
    "x3.plot(jezioro_hsv_3)\n",
    "x3.grid()\n",
    "plt.show()\n",
    "\n",
    "jezioro_hsv_equlising=cv2.equalizeHist(jezioro_hsv[:,:,2])\n",
    "jezioro_hsv[:,:,2]=jezioro_hsv_equlising\n",
    "jezioro_rgb = cv2.cvtColor(jezioro_hsv, cv2.COLOR_HSV2RGB)\n",
    "\n",
    "plt.imshow(jezioro_rgb,vmin=0, vmax=256)\n",
    "plt.xticks([]), plt.yticks([])\n",
    "plt.show()"
   ]
  }
 ],
 "metadata": {
  "kernelspec": {
   "display_name": "Python 3",
   "language": "python",
   "name": "python3"
  },
  "language_info": {
   "codemirror_mode": {
    "name": "ipython",
    "version": 3
   },
   "file_extension": ".py",
   "mimetype": "text/x-python",
   "name": "python",
   "nbconvert_exporter": "python",
   "pygments_lexer": "ipython3",
   "version": "3.8.6"
  }
 },
 "nbformat": 4,
 "nbformat_minor": 4
}
