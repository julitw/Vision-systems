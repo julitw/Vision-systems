{
 "cells": [
  {
   "cell_type": "markdown",
   "metadata": {
    "pycharm": {
     "name": "#%% md\n"
    }
   },
   "source": [
    "# Filtracja bilateralna"
   ]
  },
  {
   "cell_type": "markdown",
   "metadata": {
    "collapsed": false,
    "pycharm": {
     "name": "#%% md\n"
    }
   },
   "source": [
    "## Konwolucja obrazu z filtrem o zadanych współczynnikach\n",
    "\n",
    "Splot (konwolucję) obrazu wejściowego $I$ z filtrem $\\psi$ dla ustalonego punktu obrazu $\\mathbf{x}$ można przedstawić następująco:\n",
    "\n",
    "\\begin{equation}\n",
    "\\hat{I}(\\mathbf{x}) = \\frac{1}{W_N}\\sum_{\\mathbf{p} \\in \\eta(\\mathbf{x})} \\psi(||\\mathbf{p}-\\mathbf{x}||)I(\\mathbf{p})\n",
    "\\tag{1}\n",
    "\\end{equation}\n",
    "\n",
    "gdzie:\n",
    "- $\\hat{I}$ jest obrazem wynikowym (przefiltrowanym),\n",
    "- $W_N = \\sum_y \\psi(y)$ jest parametrem normalizującym współczynniki filtra $\\psi$,\n",
    "- $||\\cdot||$ jest odległością między punktami obrazu $\\mathbf{x}$ i $\\mathbf{p}$ według ustalonej metryki (np. norma $L_2$). Uwaga, proszę pamiętać, że zarówno $\\mathbf{x}$, jak i $\\mathbf{p}$ to współrzędne przestrzenne,\n",
    "- $\\eta(\\mathbf{x})$ jest otoczeniem punktu $\\mathbf{x}$.\n",
    "\n",
    "Funkcja $\\psi$ decyduje o charakterze filtracji. Dla filtru Gaussowskiego:\n",
    "\n",
    "\\begin{equation}\n",
    "\\psi(y) = G_{\\delta_s}(y)\n",
    "\\tag{2}\n",
    "\\end{equation}\n",
    "\n",
    "gdzie: $G_{\\delta_s}(y)$ jest funkcją Gaussa z parametrem skali $\\delta_s$.\n",
    "\n",
    "Opisaną powyżej filtrację realizowaliśmy w ramach ćwiczenia \"Przetwarzanie wstępne. Filtracja kontekstowa.\""
   ]
  },
  {
   "cell_type": "markdown",
   "metadata": {
    "collapsed": false,
    "pycharm": {
     "name": "#%% md\n"
    }
   },
   "source": [
    "## Filtracja bilateralna\n",
    "\n",
    "Wadą klasycznego splotu jest brak adaptacji współczynników filtra do lokalnego otoczenia $\\eta(\\mathbf{x})$ filtrowanego punktu $\\mathbf{x}$.\n",
    "Oznacza to wykorzystanie tych samych współczynników filtra $\\psi$ niezależnie od tego czy otoczenie jest względnie jednorodne lub zawiera krawędzie obiektów (w tym przypadku dochodzi do \"rozmywania\" krawędzi).\n",
    "Filtracja bilateralna uwzględnia lokalne otoczenie filtrowanego punktu, w ten sposób, że parametry filtra zmieniają się w zależności od \"wyglądu\" otoczenia.\n",
    "\n",
    "\n",
    "Współczynniki filtra obliczane są na podstawie odległości filtrowanego punktu $\\mathbf{x}$ od każdego punktu otoczenia $\\mathbf{p}$ w dziedzinie przestrzennej obrazu (tak jak przy typowym filtrze np. Gaussa) oraz odległości punktów w przeciwdziedzinie obrazu (np. na podstawie różnicy w jasności pikseli dla obrazu w odcieniach szarości):\n",
    "\n",
    "\\begin{equation}\n",
    "\\hat{I}(\\mathbf{x}) = \\frac{1}{W_N}\\sum_{\\mathbf{p} \\in \\eta(\\mathbf{x})} \\psi(||\\mathbf{p}-\\mathbf{x}||) \\gamma(|I(\\mathbf{p}) - I(\\mathbf{x})|) I(\\mathbf{p})\n",
    "\\tag{3}\n",
    "\\end{equation}\n",
    "gdzie:\n",
    "- $W_N$ jest współczynnikiem normalizującym filtr,\n",
    "- $\\gamma$ jest funkcją odległości w przeciwdziedzinie obrazu, np. $\\gamma(y)=\\exp(-\\frac{y^2}{2\\delta_r^2})$\n",
    "- parametr $\\delta_r$ jest utożsamiany z poziomem szumu w obrazie i należy go dobrać w sposób empiryczny.\n",
    "\n",
    "Proszę chwilę zastanowić się nad powyższym równaniem, w szczególności nad funkcją $\\gamma$. Proszę wyznaczyć, jaka będzie wartość funkcji dla pikseli podobnych (różnica 0, 1, 2), a skrajnie różnych (255, 200).\n",
    "\n",
    "##  Realizacja ćwiczenia\n",
    "\n",
    "### Wczytanie danych\n",
    "\n",
    "1. Wczytaj dane z pliku *MR_data.mat*. W tym celu wykorzystaj funkcję `loadmat` z pakietu scipy:\n",
    "        from scipy.io import loadmat\n",
    "        mat = loadmat('MR_data.mat')\n",
    "\n",
    "2. Wczytany plik zawiera 5 obrazów: *I_noisefree*, *I_noisy1*, *I_noisy2*, *I_noisy3* oraz *I_noisy4*. Odczytać je można w następujący sposób:\n",
    "        Input = mat['I_noisy1']\n",
    "\n",
    "3. Wyświetl wybrany obraz z pliku *MR_data.mat*. Zagadka - co to za obrazowanie medyczne?"
   ]
  },
  {
   "cell_type": "code",
   "execution_count": null,
   "metadata": {
    "collapsed": false,
    "pycharm": {
     "name": "#%% Zadanie 1 - wyświetlanie\n"
    }
   },
   "outputs": [],
   "source": [
    "from matplotlib import pyplot as plt\n",
    "import numpy as np\n",
    "from scipy.io import loadmat\n",
    "import math\n",
    "import os\n",
    "import random\n",
    "\n",
    "if not os.path.exists(\"MR_data.mat\") :\n",
    "    !wget https://raw.githubusercontent.com/vision-agh/poc_sw/master/07_Bilateral/MR_data.mat --no-check-certificate\n",
    "\n",
    "#TODO Samodzielna\n",
    "\n",
    "mat = loadmat('MR_data.mat')\n",
    "\n",
    "img1= mat['I_noisy1']\n",
    "img2 = mat['I_noisy2']\n",
    "img3 = mat['I_noisy3']\n",
    "img4 = mat['I_noisy4']\n",
    "img5 = mat['I_noisefree']\n"
   ]
  },
  {
   "cell_type": "markdown",
   "metadata": {
    "collapsed": false,
    "pycharm": {
     "name": "#%% md\n"
    }
   },
   "source": [
    "### \"Klasyczna\" konwolucja\n",
    "\n",
    "1. Zdefiniuj parametry filtra Gaussowskiego: rozmiar okna i wariancję $\\delta_S$.\n",
    "2. Oblicz współczynniki filtra na podstawie zdefiniowanych parametrów (najprościej w ramach podwójnej pętli for).\n",
    "2. Sprawdź ich poprawność i zwizualizuj filtr (tak jak w ćwiczeniu pt. \"Przetwarzanie wstępne. Filtracja kontekstowa.\").\n",
    "3. Wykonaj kopię obrazu wejściowego: `IConv = Input.copy()`\n",
    "4. Wykonaj podwójną pętlę po obrazie. Pomiń ramkę, dla której nie jest zdefiniowany kontekst o wybranej wielkości.\n",
    "5. W każdej iteracji stwórz dwuwymiarową tablicę zawierającą aktualny kontekst.\n",
    "6. Napisz funkcję, która będzie obliczała nową wartość piksela.\n",
    "Argumentem tej funkcji są aktualnie przetwarzane okno i współczynniki filtra.\n",
    "7. Obliczoną wartość przypisz do odpowiedniego piksela kopii obrazu wejściowego.\n",
    "8. Wyświetl wynik filtracji.\n",
    "9. Porównaj wynik z obrazem oryginalnym."
   ]
  },
  {
   "cell_type": "code",
   "execution_count": null,
   "metadata": {
    "collapsed": false,
    "pycharm": {
     "name": "#%% Zadanie 2 - konwolucja\n"
    }
   },
   "outputs": [],
   "source": [
    "#TODO Samodzielna\n",
    "\n",
    "def fgaussian(size, sigma):\n",
    "     m = n = size\n",
    "     h, k = m//2, n//2\n",
    "     x, y = np.mgrid[-h:h+1, -k:k+1]\n",
    "     g = np.exp(-(x**2 + y**2)/(2*sigma**2))\n",
    "     return g  \n",
    "    \n",
    "    \n",
    "def mesh(fun, size):\n",
    "    fig = plt.figure()\n",
    "    ax = fig.gca(projection='3d')\n",
    "    \n",
    "\n",
    "    X = np.arange(-size//2, size//2, 1)\n",
    "    Y = np.arange(-size//2, size//2, 1)\n",
    "    X, Y = np.meshgrid(X, Y)\n",
    "    Z = fun\n",
    "    \n",
    "    ax.plot_surface(X, Y, Z)\n",
    "    \n",
    "    plt.show()\n",
    "    \n",
    "\n",
    "maska = fgaussian(5,0.7)\n",
    "mesh(maska,5)\n",
    "\n",
    "\n"
   ]
  },
  {
   "cell_type": "code",
   "execution_count": null,
   "metadata": {},
   "outputs": [],
   "source": [
    "def pixel_out(win,size,sigma):\n",
    "     mask= fgaussian(size,sigma)\n",
    "     A,B = win.shape\n",
    "     x = A//2\n",
    "     y = B//2\n",
    "     pixel=0\n",
    "     for i in range(A):\n",
    "        for j in range(B):\n",
    "            distance=np.sqrt((x-i)**2+(y-j)**2)\n",
    "            fun_gaus= (1/(sigma*np.sqrt(2*np.pi)))*np.exp(-(distance**2)/(2*sigma**2))\n",
    "            pixel=pixel+fun_gaus*win[i,j]\n",
    "     return pixel/mask.sum()\n",
    "\n",
    "def convol(image,sigma,size):\n",
    "     IConv = image.copy()\n",
    "     A,B=IConv.shape\n",
    "     step = size//2\n",
    "     for i in range(step,A-step):\n",
    "          for j in range(step,B-step//2):\n",
    "               win = IConv[i-step:i+step+1,j-step:j+step+1]\n",
    "               new_pixel=pixel_out(win,size,sigma)\n",
    "               IConv[i,j]=new_pixel\n",
    "     return IConv\n",
    "\n",
    "f, ax1 = plt.subplots(1,2,figsize=(16,16))\n",
    "ax1[0].imshow(img1,'gray')\n",
    "ax1[0].set_title(\"Obraz oryginalny\")\n",
    "ax1[0].axis('off')\n",
    "ax1[1].imshow(convol(img1,0.7,7), 'gray')\n",
    "ax1[1].set_title(\"Obraz w wyniku konwolucji\")\n",
    "ax1[1].axis('off')"
   ]
  },
  {
   "cell_type": "markdown",
   "metadata": {},
   "source": [
    "W wyniku konwolucji obraz stał się nieco bardziej rozmyty, krawędzie są mniej ostre, a białe plamki w tle bardziej niewyraźne"
   ]
  },
  {
   "cell_type": "markdown",
   "metadata": {
    "collapsed": false,
    "pycharm": {
     "name": "#%% md\n"
    }
   },
   "source": [
    "### Filtracja bilateralna\n",
    "\n",
    "1. Zdefiniuj dodatkowy parametr: wariancję $\\delta_R$.\n",
    "3. Wykonaj kopię obrazu wejściowego: `IBilateral = Input.copy()`\n",
    "4. Wykonaj podwójną pętlę po obrazie. Pomiń ramkę, dla której nie jest zdefiniowany kontekst o wybranej wielkości.\n",
    "5. W każdej iteracji stwórz dwuwymiarową tablicę zawierającą aktualny kontekst.\n",
    "6. Napisz funkcję, która będzie obliczała nową wartość piksela.\n",
    "Argumentami funkcji są aktualnie przetwarzane okno, współczynniki filtra gaussowskiego (takie same jak wcześniej) i wariancja $\\delta_R$.\n",
    "7. Oblicz odległość w przeciwdziedzinie (dla wartości pikseli).\n",
    "8. Oblicz funkcję Gaussa dla obliczonych odległości z zadanym parametrem.\n",
    "9. Wykonaj normalizację obliczonych współczynników.\n",
    "10. Obliczoną wartość przypisz do odpowiedniego piksela kopii obrazu wejściowego.\n",
    "11. Wyświetl wynik filtracji.\n",
    "12. Porównaj wynik z obrazem oryginalnym."
   ]
  },
  {
   "cell_type": "code",
   "execution_count": null,
   "metadata": {
    "collapsed": false,
    "pycharm": {
     "name": "#%%\n"
    }
   },
   "outputs": [],
   "source": [
    "def pixel_out_bilateral(win,sigma,delta_r):\n",
    "    A,B = win.shape\n",
    "    x = A//2\n",
    "    y = B//2\n",
    "    pixel=0\n",
    "    norm=0\n",
    "    for i in range(A):\n",
    "        for j in range(B):\n",
    "            diff=np.abs(win[x,y]-win[i,j])\n",
    "            dist=np.sqrt(((x-i)**2)+((y-j)**2))\n",
    "            gaus_fun= np.exp(-(dist**2)/(2*(sigma**2)))\n",
    "            gamma_y= np.exp(-(diff**2)/(2*(delta_r**2)))\n",
    "            pixel=pixel+gaus_fun*gamma_y*win[i,j]\n",
    "            norm+=gaus_fun*gamma_y\n",
    "    return pixel/norm\n",
    "\n",
    "    #TODO Samodxielna\n",
    "def bilateral(img,size,sigma,delta_r):\n",
    "    IConv = img.copy()\n",
    "    A,B=IConv.shape\n",
    "    step = size//2\n",
    "    for i in range(step,A-step):\n",
    "        for j in range(step,B-step):\n",
    "            win = IConv[i-step:i+step+1,j-step:j+step+1]\n",
    "            new_pixel=pixel_out_bilateral(win,sigma,delta_r)\n",
    "            IConv[i,j]=new_pixel\n",
    "    return IConv\n",
    "\n",
    "\n",
    "f, ax1 = plt.subplots(1,2,figsize=(16,16))\n",
    "ax1[0].imshow(img1,'gray')\n",
    "ax1[0].set_title(\"Onraz oryginalny\")\n",
    "ax1[0].axis('off')\n",
    "ax1[1].imshow(bilateral(img1,5,5,20), 'gray')\n",
    "ax1[1].set_title(\"Obraz w wyniku filtracji bilateralnej\")\n",
    "ax1[1].axis('off')"
   ]
  },
  {
   "cell_type": "markdown",
   "metadata": {},
   "source": [
    "Obraz w wyniku filtracji bilaterlanej stał się wygładzony, artefakty w postaci białych kropek są niewidoczne (bardzo rozmyte,zlewają się)"
   ]
  },
  {
   "cell_type": "code",
   "execution_count": null,
   "metadata": {},
   "outputs": [],
   "source": [
    "tab_image = [img1,img2, img3, img4]\n",
    "ax1,ax2,ax3 = 0,0,0\n",
    "\n",
    "def graphs(tab_image,tab_ax,tab_title):\n",
    "    f, (tab_ax) = plt.subplots(1,np.size(tab_ax),figsize=(16,6))\n",
    "\n",
    "    for i in range(np.size(tab_ax)):\n",
    "        tab_ax[i].set_title(tab_title[i])\n",
    "        tab_ax[i].imshow(tab_image[i], 'gray')\n",
    "        tab_ax[i].axis('off')\n",
    "\n",
    "for img in tab_image:\n",
    "    graphs([img,convol(img,0.7,7),bilateral(img,5,5,20)],[ax1,ax2,ax3],[\"Obraz rzeczywisty\",\"Wyniku konwolucji\",\"Wynik filtracji bilaterlanej\"])\n"
   ]
  },
  {
   "cell_type": "markdown",
   "metadata": {},
   "source": [
    "Filtracja bilateralna wygładza obrazy, eliminiuje niedoskonałości najlepiej, przy zachowaniu ostrych krawędzi. Konwolucja powoduje powstanie mniej ostrych krawędzi w stosunku do obrazu oryginalnego."
   ]
  }
 ],
 "metadata": {
  "kernelspec": {
   "display_name": "Python 3",
   "language": "python",
   "name": "python3"
  },
  "language_info": {
   "codemirror_mode": {
    "name": "ipython",
    "version": 3
   },
   "file_extension": ".py",
   "mimetype": "text/x-python",
   "name": "python",
   "nbconvert_exporter": "python",
   "pygments_lexer": "ipython3",
   "version": "3.8.6"
  }
 },
 "nbformat": 4,
 "nbformat_minor": 4
}
