{
 "cells": [
  {
   "cell_type": "markdown",
   "metadata": {
    "pycharm": {
     "name": "#%% md\n"
    }
   },
   "source": [
    "# Detekcja krawędzi"
   ]
  },
  {
   "cell_type": "markdown",
   "metadata": {
    "collapsed": false,
    "pycharm": {
     "name": "#%% md\n"
    }
   },
   "source": [
    "## Cel ćwiczenia\n",
    "\n",
    "- Zapoznanie z metodami detekcji krawędzi:\n",
    "    - Sobel, Prewitt, Roberts - przypomnienie,\n",
    "    - Laplasjan z Gaussa (LoG – ang. Laplacian of Gaussian),\n",
    "    - Canny.\n",
    "\n",
    "Detekcja krawędzi przez wiele lat była podstawą algorytmów segmentacji.\n",
    "Krawędzie wykrywane są najczęściej z wykorzystaniem pierwszej (gradient) i drugiej (Laplasjan) pochodnej przestrzennej.\n",
    "Wykorzystanie obu metod zaprezentowane zostało w ćwiczeniu *Przetwarzanie wstępne. Filtracja kontekstowa*.\n",
    "\n",
    "W niniejszym ćwiczeniu poznane detektory krawędzi zostaną porównane z bardziej zaawansowanymi: Laplasjan z funkcji Gaussa (LoG), Zero Crossing i Canny."
   ]
  },
  {
   "cell_type": "markdown",
   "metadata": {
    "collapsed": false,
    "pycharm": {
     "name": "#%% md\n"
    }
   },
   "source": [
    "## Laplasjan z Gaussa (LoG)\n",
    "\n",
    "Funkcja Gaussa:<br>\n",
    "\\begin{equation}\n",
    "h(r) = e^{\\frac{-r^2}{2 \\sigma^2}}\n",
    "\\end{equation}<br>\n",
    "gdzie:\n",
    "- $r^2 = x^2 + y^2$\n",
    "- $\\sigma$ to odchylenie standardowe.\n",
    "\n",
    "Działanie filtracji Gaussowskiej zostało przedstawione w ćwiczeniu \"Przetwarzanie wstępne\". W jej wyniku następuje rozmazanie obrazu.\n",
    "Laplasjan tej funkcji dany jest wzorem:\n",
    "\n",
    "\\begin{equation}\n",
    "\\nabla^2 h(r) = \\frac{r^2 - 2\\sigma^2}{\\sigma^4} e^{-\\frac{r^2}{2\\sigma^2}}\n",
    "\\end{equation}\n",
    "\n",
    "Funkcję (z oczywistych powodów) nazywamy Laplasjan z Gaussa (LoG).\n",
    "Ponieważ druga pochodna jest operacją liniową, konwolucja obrazu z $\\nabla^2 h(r)$ daje taki sam efekt jak zastosowanie filtracji Gaussa na obrazie, a następnie obliczenie Laplasjanu z wyniku.\n",
    "Lokalizacja krawędzi polega na znalezieniu miejsca, gdzie po filtracji LoG następuje zmiana znaku.\n",
    "\n",
    "1. Wczytaj obraz *house.png*.\n",
    "2. Wykonaj rozmycie Gaussowskie obrazu wejściowego.\n",
    "W tym celu wykorzysaj funkcję `cv2.GaussianBlur(img, kSize, sigma)`.\n",
    "Pierwszy argument jest obrazem wejśćiowym.\n",
    "Drugi jest rozmiarem filtru (podanym w nawiasach okrągłych, np. *(3, 3)*).\n",
    "Trzecim argumentem jest odchylenie standardowe. Wartość jest dobrana automatycznie, jeśli zosanie podana wartość `0` (będą równe rozmiarowi).\n",
    "3. Oblicz laplasjan obrazu rozmytego.\n",
    "W tym celu wykorzysaj funkcję `cv2.Laplacian(img, ddepth)`.\n",
    "Pierszym argumentem jest obraz wejściowy.\n",
    "Drugim argumentem jest typ danych wejściowych. Użyj `cv2.CV_32F`.\n",
    "4. Wyznacz miejsca zmiany znaku.\n",
    "Zaimplementuj funkcję `crossing(LoG, thr)`:\n",
    "    - Najpierw stwórz tablicę, do której zostanie zapisany wynik.\n",
    "    Jej rozmiar jest taki sam jak przetwarzanego obrazu.\n",
    "    - Następnie wykonaj pętle po obrazie (bez ramki jednopikselowej).\n",
    "    W każdej iteracji stwórz otoczenie o rozmiarze $3 \\times 3$.\n",
    "    Dla otoczenia oblicz wartość maksymalną i minimalną.\n",
    "    - Jeśli wartości te mają przeciwne znaki, to do danego miejsca tablicy przypisz wartość:\n",
    "        - jeśli piksel wejściowy > 0, to dodaj do niego wartość bezwzględną minimum.\n",
    "        - jeśli piksel wejściowy < 0, to do jego wartości bezwzględnej dodaj maksimum.\n",
    "    - Zmień zakres wykonanej tablicy do $<0, 255>$.\n",
    "    - Wykonaj progowanie tablicy. Próg jest argumentem wejściowym.\n",
    "    - Przeskaluj dane binarne do wartości `[0, 255]`.\n",
    "    - Wykonaj konwersję do typu *uint8*.\n",
    "    - Wykonaj rozmycie medianowe wyniku.\n",
    "    Wykorzystaj funkcję `cv2.medianBlur(img, kSize)`.\n",
    "    Pierwszym argumentem jest obraz wejśćiowy, a drugim rozmiar filtra.\n",
    "    - Zwróć wyznaczoną tablicę.\n",
    "5. Wyświetl obraz wynikowy.\n",
    "6. Dobierz parametry (rozmiar filtru Gaussa, odchylenie standardowe, próg binaryzacji) tak, by widoczne były kontury domu, ale nie dachówki."
   ]
  },
  {
   "cell_type": "code",
   "execution_count": null,
   "metadata": {
    "collapsed": false,
    "pycharm": {
     "name": "#%% Zadanie 1 - LoG\n"
    }
   },
   "outputs": [],
   "source": [
    "import cv2\n",
    "from matplotlib import pyplot as plt\n",
    "import numpy as np\n",
    "import math\n",
    "import os\n",
    "\n",
    "if not os.path.exists(\"dom.png\") :\n",
    "    !wget https://raw.githubusercontent.com/vision-agh/poc_sw/master/09_Canny/dom.png --no-check-certificate\n",
    "\n",
    "\n",
    "house = cv2.imread(\"dom.png\", cv2.IMREAD_GRAYSCALE)\n",
    "\n",
    "blur = cv2.GaussianBlur(house,(7,7),2)\n",
    "lap_blur = cv2.Laplacian(blur,cv2.CV_32F)\n",
    "\n",
    "def crossing(LoG, thr):\n",
    "    X,Y = np.shape(LoG)\n",
    "    result = np.zeros((X,Y))\n",
    "    for i in range(0,X-2):\n",
    "        for j in range(0,Y-2):\n",
    "            extract = LoG[i:i+3,j:j+3]\n",
    "            max = extract.max()\n",
    "            min = extract.min()\n",
    "            if np.sign(max) != np.sign(min):\n",
    "                if LoG[i][j] >0:\n",
    "                    result[i][j]= LoG[i][j]+np.abs(min)\n",
    "                else:\n",
    "                    result[i][j]= np.abs(LoG[i][j])+ max\n",
    "\n",
    "    result_norm=cv2.normalize(result,None,0,255,cv2.NORM_MINMAX)\n",
    "    for i in range(X):\n",
    "        for j in range(Y):\n",
    "            if result_norm[i][j] < thr:\n",
    "                result_norm[i][j] = 0\n",
    "            else:\n",
    "                result_norm[i][j] = 1*255 \n",
    "            \n",
    "    final_result = cv2.medianBlur(result_norm.astype('uint8'),3)\n",
    "    return final_result\n",
    "\n",
    "\n",
    "plt.imshow(house,'gray')\n",
    "plt.title('Obraz oryginalny')\n",
    "plt.axis('off')\n",
    "plt.show()\n",
    "    \n",
    "\n",
    "house_cross = crossing(lap_blur,40)\n",
    "plt.imshow(house_cross,'gray')\n",
    "plt.title('Obraz po operacjach')\n",
    "plt.axis('off')\n",
    "plt.show()\n",
    "    \n",
    "\n"
   ]
  },
  {
   "cell_type": "markdown",
   "metadata": {
    "collapsed": false,
    "pycharm": {
     "name": "#%% md\n"
    }
   },
   "source": [
    "## Algorytm Canny'ego\n",
    "\n",
    "> Algorytm Canny'ego to często wykorzystywana metoda detekcji krawędzi.\n",
    "> Zaproponowana została w~1986r. przez Johna F. Cannego.\n",
    "> Przy jego projektowaniu założono trzy cele:\n",
    "> - niska liczba błędów - algorytm powinien znajdywać wszystkie krawędzie oraz generować jak najmniej fałszywych detekcji,\n",
    "> - punkty krawędziowe powinny być poprawnie lokalizowane - wykryte punkty powinny być jak najbardziej zbliżone do rzeczywistych,\n",
    "> - krawędzie o szerokości 1 piksela - algorytm powinien zwrócić jeden punkt dla każdej rzeczywistej krawędzi.\n",
    "\n",
    "Zaimplementuj pierwszą część algorytmu detekcji krawędzi Canny'ego:\n",
    "1. W pierwszym kroku obraz przefiltruj dwuwymiarowym filtrem Gaussa.\n",
    "2. Następnie oblicz gradient pionowy i poziomy ($g_x $ i $g_y$).\n",
    "Jedną z metod jest filtracja Sobela.\n",
    "3. Dalej oblicz amplitudę:\n",
    "$M(x,y)  = \\sqrt{g_x^2+g_y^2}$ oraz kąt:\n",
    "$\\alpha(x,y) = arctan(\\frac{g_y}{g_x})$.\n",
    "Do obliczenia kąta wykorzystaj funkcję `np.arctan2(x1, x2)`.\n",
    "Wynik jest w radianach.\n",
    "4. W kolejnym etapie wykonaj kwantyzację kątów gradientu.\n",
    "Kąty od $-180^\\circ$ do $180^\\circ$ można podzielić na 8 przedziałów:\n",
    "[$-22.5^\\circ, 22.5^\\circ$], [$22.5^\\circ, 67.5^\\circ$],\n",
    "[$67.5^\\circ, 112.5^\\circ$], [$112.5^\\circ, 157.5^\\circ$],\n",
    "[$157.5^\\circ, -157.5^\\circ$], [$-157.5^\\circ, -112.5^\\circ$],\n",
    "[$-112.5^\\circ, -67.5^\\circ$], [$-67.5^\\circ, -22.5^\\circ$].\n",
    "Przy czym należy rozpatrywać tylko 4 kierunki:\n",
    "    - pionowy ($d_1$),\n",
    "    - poziomy ($d_2$),\n",
    "    - skośny lewy ($d_3$),\n",
    "    - skośny prawy ($d_4$).\n",
    "5. Dalej przeprowadź eliminację pikseli, które nie mają wartości maksymalnej (ang. *nonmaximal suppresion*).\n",
    "Celem tej operacji jest redukcja szerokości krawędzi do rozmiaru 1 piksela.\n",
    "Algorytm przebiega następująco.\n",
    "W rozpatrywanym otoczeniu o rozmiarze $3 \\times 3$:\n",
    "    - określ do którego przedziału należy kierunek gradientu piksela centralnego ($d_1, d_2, d_3, d_4$).\n",
    "    - przeanalizuje sąsiadów leżących na tym kierunku.\n",
    "Jeśli choć jeden z nich ma amplitudę większą niż piksel centralny, to należy uznać, że nie jest lokalnym maksimum i do wyniku przypisać $g_N(x,y) = 0$.\n",
    "W przeciwnym przypadku $g_N(x,y) = M(x,y)$.\n",
    "Przez $g_N$ rozumiemy obraz detekcji lokalnych maksimów.\n",
    "Zaimplementuj funkcję `nonmax`.\n",
    "Pierwszym argementem jest macierz kierunków (po kwantyzacji).\n",
    "Drugim argumentem jest macierz amplitudy.\n",
    "6. Ostatnią operacją jest binaryzacja obrazu $g_N$.\n",
    "Stosuje się tutaj tzw. binaryzację z histerezą.\n",
    "Wykorzystuje się w niej dwa progi: $T_L$ i $T_H$, przy czym $T_L < T_H$.\n",
    "Canny zaproponował, aby stosunek progu wyższego do niższego był jak 3 lub 2 do 1.\n",
    "Rezultaty binaryzacji można opisać jako:<br>\n",
    "$g_{NH}(x,y) = g_N(x,y) \\geq TH $<br>\n",
    "$g_{NL}(x,y) = TH > g_N(x,y) \\geq TL $<br>\n",
    "Można powiedzieć, że na obrazie $g_{NH}$ są \"pewne\" krawędzie.\n",
    "Natomiast na $g_{NL}$ \"potencjalne\".\n",
    "7. Na jednym obrazie zaznacz piksele należące do obrazu $g_{NH}$ jako czerwone oraz należące do obrazu $g_{NL}$ jako niebieskie.\n",
    "Wyświetl obraz."
   ]
  },
  {
   "cell_type": "code",
   "execution_count": null,
   "metadata": {
    "collapsed": false,
    "pycharm": {
     "name": "#%% Zadanie 2 - Canny\n"
    }
   },
   "outputs": [],
   "source": [
    "def canny(img,size,th,tl):\n",
    "\n",
    "    kernel =np.ones((size,size))/(size*size)\n",
    "    new_image = cv2.filter2D(img, -1, kernel)\n",
    "\n",
    "    S1=np.array([[-1,0,1],[-2,0,2],[-1,0,1]])\n",
    "    S2=np.array([[-1,-2,-1],[0,0,0],[1,2,1]])\n",
    "    Gx=cv2.filter2D(new_image, -1, S1)\n",
    "    Gy=cv2.filter2D(new_image, -1, S2)\n",
    "\n",
    "    M = np.sqrt(Gx*Gx + Gy*Gy)\n",
    "    alpha_rad = np.arctan2(Gx, Gy)\n",
    "    alpha_deg = np.degrees(alpha_rad)\n",
    "\n",
    "    J,K = alpha_deg.shape\n",
    "    for x in range(J):\n",
    "        for y in range(K):\n",
    "            if alpha_deg[x][y] < 0:\n",
    "                alpha_deg[x][y] + 180\n",
    "                \n",
    "    X,Y = img.shape\n",
    "    direct = np.zeros((X,Y))\n",
    "\n",
    "    for i in range (X):\n",
    "        for j in range (Y):\n",
    "            \n",
    "            if (0 <= alpha_deg[i][j] < 22.5):\n",
    "                direct[i][j]=0\n",
    "            \n",
    "            elif (22.5 <= alpha_deg[i][j] < 67.5):\n",
    "                direct[i][j]=45\n",
    "            \n",
    "            elif (67.5 <= alpha_deg[i][j] < 112.5):\n",
    "                direct[i][j]=90\n",
    "            \n",
    "            elif (112.5 <= alpha_deg[i][j] < 157.5):\n",
    "                direct[i][j]=135\n",
    "            \n",
    "            elif (157.5 <= alpha_deg[i][j] <= 180):\n",
    "                direct[i][j]=0\n",
    "\n",
    "\n",
    "    gn = nonmax(direct, M)\n",
    "    gnh=gn>=th\n",
    "    gnl = np.zeros((X,Y))\n",
    "    for i in range(X):\n",
    "        for j in range(Y):\n",
    "            if (gn[i][j]<th and gn[i][j] >=tl):\n",
    "                gnl[i][j] = 1\n",
    "    return gnh,gnl\n",
    "\n",
    "def nonmax(direct,M):\n",
    "    X,Y = direct.shape\n",
    "    gn=np.zeros((X,Y))\n",
    "    \n",
    "    for i in range (1,X-1):\n",
    "        for j in range (1,Y-1):\n",
    "            if(direct[i][j]==0):    #poziom - idziemy po kolumnach\n",
    "                if(M[i][j-1]>M[i,j] or M[i][j+1]>M[i][j]):\n",
    "                    gn[i][j]=0\n",
    "                else:\n",
    "                    gn[i][j]=M[i][j]\n",
    "            elif(direct[i][j]==45):     #skos prawy \n",
    "                if(M[i+1][j-1]>M[i,j] or M[i-1][j+1]>M[i,j]):\n",
    "                    gn[i][j]=0\n",
    "                else:\n",
    "                    gn[i][j]=M[i][j]\n",
    "            elif(direct[i,j]==90):  #pion - idziemy po wierszach\n",
    "                if(M[i+1][j]>M[i,j] or M[i-1][j]>M[i][j]):\n",
    "                    gn[i,j]=0\n",
    "                else:\n",
    "                    gn[i,j]=M[i,j]\n",
    "            elif(direct[i,j]==135):   # skos lewy \n",
    "                if(M[i-1][j-1]>M[i,j] or M[i+1][j+1]>M[i][j]):\n",
    "                    gn[i,j]=0\n",
    "                else:\n",
    "                    gn[i,j]=M[i,j]\n",
    "    return gn\n",
    "    "
   ]
  },
  {
   "cell_type": "code",
   "execution_count": null,
   "metadata": {},
   "outputs": [],
   "source": [
    "house = cv2.imread('dom.png', cv2.IMREAD_GRAYSCALE)\n",
    "\n",
    "gnh,gnl = canny(house,3,tl=6,th=11)\n",
    "\n",
    "plt.imshow(gnh, 'gray')\n",
    "plt.title('Gnh - krawędzie pewne')\n",
    "plt.axis('off')\n",
    "plt.show()\n",
    "\n",
    "plt.imshow(gnl, 'gray')\n",
    "plt.title('Gnl - krawędzie potencjalne')\n",
    "plt.axis('off')\n",
    "plt.show()\n",
    "\n",
    "X,Y = gnh.shape\n",
    "red_blue=np.zeros((X,Y,3))\n",
    "for i in range (X):\n",
    "    for j in range (Y):\n",
    "        if(gnh[i,j]==1):\n",
    "            red_blue[i,j]=[255,0,0]\n",
    "        elif(gnl[i,j]==1):\n",
    "            red_blue[i,j]=[0,0,255]\n",
    "plt.imshow(red_blue)\n",
    "plt.axis('off')\n",
    "plt.show()"
   ]
  },
  {
   "cell_type": "markdown",
   "metadata": {
    "collapsed": false,
    "pycharm": {
     "name": "#%% md\n"
    }
   },
   "source": [
    "## Algorytm Canny'ego - OpenCV\n",
    "\n",
    "1. Wykonaj dektekcję krawędzi metodą Canny'ego wykorzystując funkcję `cv2.Canny`.\n",
    "    - Pierwszym argumentem funkcji jest obraz wejściowy.\n",
    "    - Drugim argumentem jest mniejszy próg.\n",
    "    - Trzecim argumentem jest większy próg.\n",
    "    - Czwarty argument to tablica, do której wpisany zostanie wynik.\n",
    "    Można zwrócić go przez wartość i podać wartość `None`.\n",
    "    - Piąty argument to rozmiar operatora Sobela (w naszym przypadku 3).\n",
    "    - Szósty argument to rodzaj używanej normy.\n",
    "    0 oznacza normę $L_1$, 1 oznacza normę $L_2$. Użyj $L_2$.\n",
    "2. Wynik wyświetl i porównaj z wykonaną częściową implementacją w poprzednim ćwiczeniu.\n",
    "Na czym polegają różnice?"
   ]
  },
  {
   "cell_type": "code",
   "execution_count": null,
   "metadata": {
    "collapsed": false,
    "pycharm": {
     "name": "#%% Zadanie 3 - Canny opencv\n"
    }
   },
   "outputs": [],
   "source": [
    "img_can=cv2.Canny(house,6,11,None,3,1)\n",
    "plt.imshow(img_can, 'gray')\n",
    "plt.axis('off')\n",
    "plt.show()"
   ]
  },
  {
   "cell_type": "markdown",
   "metadata": {},
   "source": [
    "Obraz zawiera białe plamy w górnej częsci, mniej widoczne są krawędzie okien i drzwi, ale za to bardziej wyostrzone są dachówki."
   ]
  }
 ],
 "metadata": {
  "interpreter": {
   "hash": "494deeb4eea7fb63b62f74ba02ace728543e0003fbb675bfec79f4f4980c3f04"
  },
  "kernelspec": {
   "display_name": "Python 3.8.6 64-bit",
   "language": "python",
   "name": "python3"
  },
  "language_info": {
   "codemirror_mode": {
    "name": "ipython",
    "version": 3
   },
   "file_extension": ".py",
   "mimetype": "text/x-python",
   "name": "python",
   "nbconvert_exporter": "python",
   "pygments_lexer": "ipython3",
   "version": "3.8.6"
  }
 },
 "nbformat": 4,
 "nbformat_minor": 4
}
