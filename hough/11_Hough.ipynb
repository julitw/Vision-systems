{
  "cells": [
    {
      "cell_type": "markdown",
      "metadata": {
        "id": "Vs0R3D4R2RUL"
      },
      "source": [
        "# Instrukcja - Transformacja Hougha\n",
        "\n",
        "### Cel:\n",
        "- zapoznanie z transformacją Hougha dla pojedynczego punktu,\n",
        "- kilku punktów, prostych figur\n",
        "- wykorzystanie transformacji Hougha do detekcji linii prostych na rzeczywistym obrazie\n",
        "- transformacja Hougha w przestrzeni ab\n",
        "\n",
        "### Transformacja Hougha\n",
        "\n",
        "Transformacja Hougha dla prostych jest metodą detekcji współliniowych punktów. Każda prosta może być jednoznacznie przedstawiona za pomocą dwóch parametrów. Przestrzeń tych parametrów to przestrzeń Hougha. Najczęściej wykorzystywanymi parametrami w tej metodzie są współczynniki ρ,θ\n",
        "\n",
        "opisujące równanie prostej w postaci normalnej:\n",
        "\n",
        "ρ=x⋅cos(θ)+y⋅sin(θ)\n",
        "\n",
        "gdzie: ρ - promień wodzący, θ - kąt pomiędzy ρ a osią OX.\n",
        "\n",
        "Własności transformacji Hougha:\n",
        "- prostej w przestrzeni kartezjańskiej odpowiada punkt w przestrzeni Hougha\n",
        "- pękowi prostych przechdzących przez punkt w przestrzeni kartezjańskiej odpowiada krzywa sinusoidalna w przestrzeni Hougha\n",
        "- punkty leżące na tej samej prostej (w przestrzeni kartezjańskiej) korespondują z sinusoidami przechodzącymi przez wspólny punkt w przestrzeni Hougha.\n",
        "\n",
        "Metoda wyliczania transformacji Hougha składa się z następujących kroków:\n",
        "- przez każdy badany (różny od zera) punkt obrazu prowadzony jest pęk prostych, przechodzących przez ten punkt\n",
        "- każda z tych prostych transformowana jest do przestrzeni Hougha i tworzy tam punkt o współrzędnych ρ,θ\n",
        "- w ten sposób, każdy punkt obrazu pierwotnego (pęk prostych) jest odwzorowany w sinusoidalną krzywą w przestrzeni Hougha\n",
        "\n",
        "Przestrzeń Hougha jest przestrzenią akumulacyjną tzn. punkty sinusoidalnych krzywych, wygenerowanych dla punktów obrazu pierwotnego dodają się w miejscach, w których krzywe te przecinają się. Powstałe w ten sposób (w przestrzeni Hougha) maksima odpowiadają zbiorom punktów, należących do jednej prostej. Współrzędne ρ,θ\n",
        "tego maksimum jednoznacznie określają położenie prostej na obrazie pierwotnym.\n",
        "\n",
        "### Transformacja Hougha dla małej liczby punktów.\n",
        "   1. Uruchom poniższy kod. W tablicy `im` wskaż jeden punkt, dla którego ma zostać obliczona transformata."
      ]
    },
    {
      "cell_type": "code",
      "execution_count": null,
      "metadata": {
        "id": "k46ssZi12RUR"
      },
      "outputs": [],
      "source": [
        "import matplotlib.pyplot as plt\n",
        "import cv2\n",
        "import numpy as np\n",
        "from skimage.transform import hough_line, hough_line_peaks\n",
        "import os\n",
        "import math\n",
        "\n",
        "if not os.path.exists(\"kwadraty.png\") :\n",
        "    !wget https://raw.githubusercontent.com/vision-agh/poc_sw/master/11_Hough/kwadraty.png --no-check-certificate\n",
        "if not os.path.exists(\"lab112.png\") :\n",
        "    !wget https://raw.githubusercontent.com/vision-agh/poc_sw/master/11_Hough/lab112.png --no-check-certificate\n",
        "if not os.path.exists(\"dom.png\") :\n",
        "    !wget https://raw.githubusercontent.com/vision-agh/poc_sw/master/11_Hough/dom.png --no-check-certificate\n",
        "\n",
        "im = np.zeros((64,64), dtype=np.uint8)\n",
        "\n",
        "im[18, 31] = 1\n",
        "\n",
        "fig, ax = plt.subplots()\n",
        "fig.set_size_inches(4, 4)\n",
        "ax.imshow(im, 'gray')\n",
        "ax.axis('off')\n"
      ]
    },
    {
      "cell_type": "markdown",
      "metadata": {
        "id": "DkcF5vAJ2RUT"
      },
      "source": [
        "3. Wykonaj transformację Hougha obazu im. Wykorzystaj funkcję *hough_line* z modułu _skimage.transform_. Funkcja zwraca: macierz H (przestrzeń Hougha) oraz dwa wektory theta i rho dla kolejnych \n",
        "4. Wyświetl przestrzeń Hougha za pomocą funkcji _plt.imshow_ (można też wykorzystać poniższą funkcję *show_hough*). Jak \"wygląda\" pojedynczy punkt w przestrzeni Hougha?"
      ]
    },
    {
      "cell_type": "code",
      "execution_count": null,
      "metadata": {
        "id": "GdHgE1vK2RUT"
      },
      "outputs": [],
      "source": [
        "def show_hough(h, image):\n",
        "    # Generating figure 1\n",
        "    fig, axes = plt.subplots(1, 2, figsize=(15, 6))\n",
        "    ax = axes.ravel()\n",
        "\n",
        "    ax[0].imshow(image, 'gray')\n",
        "    ax[0].set_title('Input image')\n",
        "    ax[0].set_axis_off()\n",
        "\n",
        "    ax[1].imshow(h, 'gray')\n",
        "    ax[1].set_title('Hough transform')\n",
        "    ax[1].set_xlabel('Angles (degrees)')\n",
        "    ax[1].set_ylabel('Distance (pixels)')\n",
        "    ax[1].axis('image')\n",
        "    \n",
        "    plt.tight_layout()\n",
        "    plt.show()    \n",
        "\n",
        "hough_im = hough_line(im)\n",
        "show_hough(hough_im[0], im)\n",
        "\n",
        "#pojedynczny punkt przedstawiany jest w postaci fali"
      ]
    },
    {
      "cell_type": "markdown",
      "metadata": {
        "id": "D_yZ-fy62RUU"
      },
      "source": [
        "5. Powtórz punkty 1-4, ale tym razem klinkij dwa punkty. Jak zmienia się przestrzeń Hougha?\n",
        "6. Powtórz punkty 1-4, ale tym razem kliknij kilka punktów starając się aby były współliniowe. Zaobserwuj zmiany w przestrzeni Hougha\n",
        "7. Poeksperymentuj z różnymi układami punktów"
      ]
    },
    {
      "cell_type": "code",
      "execution_count": null,
      "metadata": {
        "id": "0VM0s0YR6Avm"
      },
      "outputs": [],
      "source": [
        "im[45, 60] = 1\n",
        "im[18, 31] = 1\n",
        "\n",
        "#fig, ax = plt.subplots()\n",
        "#fig.set_size_inches(4, 4)\n",
        "#ax.imshow(im, 'gray')\n",
        "##ax.axis('off')\n",
        "\n",
        "hough_im = hough_line(im)\n",
        "show_hough(hough_im[0], im)"
      ]
    },
    {
      "cell_type": "code",
      "execution_count": null,
      "metadata": {
        "id": "Epwf1emX7Pt3"
      },
      "outputs": [],
      "source": [
        "im[45, 60] = 0\n",
        "im[45, 31] = 1\n",
        "im[18, 31] = 1\n",
        "im[30,31] = 1\n",
        "\n",
        "#fig, ax = plt.subplots()\n",
        "#fig.set_size_inches(4, 4)\n",
        "#ax.imshow(im, 'gray')\n",
        "#ax.axis('off')\n",
        "\n",
        "hough_im = hough_line(im)\n",
        "show_hough(hough_im[0], im)"
      ]
    },
    {
      "cell_type": "code",
      "execution_count": null,
      "metadata": {
        "id": "iBogp9Sc7Kcr"
      },
      "outputs": [],
      "source": [
        "im[45, 60] = 1\n",
        "im[45, 31] = 1\n",
        "im[18, 31] = 1\n",
        "im[30,31] = 1\n",
        "\n",
        "#fig, ax = plt.subplots()\n",
        "#fig.set_size_inches(4, 4)\n",
        "#ax.imshow(im, 'gray')\n",
        "#ax.axis('off')\n",
        "\n",
        "hough_im = hough_line(im)\n",
        "show_hough(hough_im[0], im)"
      ]
    },
    {
      "cell_type": "markdown",
      "metadata": {
        "id": "dWgrIVHg2RUU"
      },
      "source": [
        "### Transformata Hougha dla pojedynczego obiektu\n",
        "\n",
        "W tym podpunkcie pokazane zostanie praktycznie wykorzystanie transformaty Hougha - do detekcji prostych na sztucznym rysunku.\n",
        "\n",
        "   1. Wczytaj obraz \"kwadraty.png\". Wyświetl go.\n",
        "   2. Wykonaj detekcję krawędzi jedną z metod gradientowych. Ważne aby obraz krawędzi był jak najlepszej jakości - co oznacza cienkie (nawet niekoniecznie ciągłe) krawędzie - dla tego przypadku nie powinno być trudne do uzyskania. Wyświetl obraz po detekcji krawędzi.\n",
        "   3. Wykonaj transformatę Hougha obrazu krawędziowego. Wykorzystaj funkcję *hough\\_line*.\n",
        "   4. Wyświetl macierz H. Czy widoczna jest taka liczba maksimów jakiej się spodziewamy?"
      ]
    },
    {
      "cell_type": "code",
      "execution_count": null,
      "metadata": {
        "id": "rHYi_-Fr2RUV"
      },
      "outputs": [],
      "source": [
        "kwadrat = cv2.imread('kwadraty.png',cv2.IMREAD_GRAYSCALE)\n",
        "kwadrat_canny=cv2.Canny(kwadrat,100,200)\n",
        "plt.imshow(kwadrat, 'gray')\n",
        "plt.title('Kwadrat-obraz oryginlany')\n",
        "plt.axis('off')\n",
        "plt.show()\n",
        "hough_kwadrat = hough_line(kwadrat_canny)\n",
        "show_hough(hough_kwadrat[0], kwadrat_canny)"
      ]
    },
    {
      "cell_type": "markdown",
      "metadata": {
        "id": "APDy6NbiXkPu"
      },
      "source": [
        "Na otrzymanym rysunku ciężko jest zauważyć odpowiednią ilość maximów"
      ]
    },
    {
      "cell_type": "markdown",
      "metadata": {
        "id": "mxUhKQ502RUW"
      },
      "source": [
        " 5. W module skimage.transform dostępna jest funkcja do automatycznej analizy przestrzeni Hougha - wyszukiwania maksimów - *hough\\_line\\_peaks*. Jako parametry przyjmuje ona wyniki funkcji *hough\\_line* (macierz H, theta i rho). Dodatkowo można podać próg powyżej którego punkt uznawany jest za maksimum (_threshold_ - domyslnie jest to połowa maksimum w przestrzeni H) oraz liczbę poszukiwanych maksimów (*num_peaks*). Funkcja zwraca współrzędne maksimów. Wykorzystaj funkcję *hough\\_line\\_peaks* do znalezienia maksimów odpowiadających krawędziom kwadratów.\n",
        " 6. Wyświetl macierz H używając konstrukcji:"
      ]
    },
    {
      "cell_type": "code",
      "execution_count": null,
      "metadata": {
        "id": "aT1RyHBI2RUW"
      },
      "outputs": [],
      "source": [
        "fig,ax = plt.subplots(1)\n",
        "ax.set_aspect('equal')\n",
        "H = hough_kwadrat[0]\n",
        "\n",
        "max_coordinates= hough_line_peaks(hough_kwadrat[0],hough_kwadrat[1],hough_kwadrat[2])\n",
        "\n",
        "ax.imshow(H, 'gray') # gdzie H jest przestrzenią Hougha\n",
        "\n",
        "#print(max_coordinates)"
      ]
    },
    {
      "cell_type": "markdown",
      "metadata": {
        "id": "8HRuizEI2RUX"
      },
      "source": [
        "Taki zapis pozwoli na dołożenie annotacji (okręgów) w miejscach znalezionych maksimów. Wyrysowanie okręgu w punkcie x, y (o rozmiarze 10, w czerwonym kolorze, bez wypełnienia środka) realizuje wywołanie: \n",
        "\n",
        "**circle = plt.Circle((x, y), 10, color='r', fill=False)**\n",
        "\n",
        "natomiast dołożenie takiego okręgu do obrazu to:\n",
        "\n",
        "**ax.add_patch(circle)**\n",
        "\n",
        "Zaznacz maksima na obrazie wykorzystując rezultat funkcji *hough\\_line\\_peaks* biorąc pod uwagę, że zwraca ona kąty w radianach z przedziału od -pi/2 do pi/2, a rho z przedziału od -r/2 do r/2 gdzie r to pionowy rozmiar przestrzeni Hougha. "
      ]
    },
    {
      "cell_type": "code",
      "execution_count": null,
      "metadata": {
        "id": "A2h2W3kI2RUY"
      },
      "outputs": [],
      "source": [
        "tab_angles = np.degrees(max_coordinates[1]) +90\n",
        "tab_rho = max_coordinates[2] +360\n",
        "circle = []\n",
        "for i in range(len(tab_angles)):\n",
        "  circle.append(plt.Circle((tab_angles[i], tab_rho[i]), 10, color='r', fill=False))\n",
        "fig,ax = plt.subplots(1,figsize=(22,15))\n",
        "ax.imshow(hough_kwadrat[0], 'gray')\n",
        "for i in range(len(circle)):\n",
        "  ax.add_patch(circle[i])"
      ]
    },
    {
      "cell_type": "markdown",
      "metadata": {
        "id": "LBATrsGl2RUY"
      },
      "source": [
        "7. Istnieje też możliwość przeprowadzenia transformacji Hougha z użyciem biblioteki OpenCV. W bibliotece znajdują się dwie wersje funkcji wyszukującej linie proste - 'klasyczna' - _HoughLines_ oraz probabilistyczna _HoughLinesP_. Zadna z nich nie zwraca przestrzeni Hougha. Wynikiem działania pierwszej jest lista parametrów prostych (krotki zawierające rho, theta). Druga zwraca krotki 4-ro elementowe ze współrzędnymi końców odcinków wykorzystanych do wylicznia parametrów (czyli znalezienia prostej). \n",
        "8. Wyznacz linie obecne na obrazie za pomocą funkcji _HoughLines_. Wykryte linie wyrysuj na obrazie początkowym (UWAGA: wczytanym bez konwersji na graylevel). Do wyświetlania linii wykorzystaj przykładowy kod:"
      ]
    },
    {
      "cell_type": "code",
      "execution_count": null,
      "metadata": {
        "id": "UDEp44Jv2RUY"
      },
      "outputs": [],
      "source": [
        "kwadraty = cv2.imread('kwadraty.png')\n",
        "edges = cv2.Canny(kwadraty,70,150,)\n",
        "lines = cv2.HoughLines(edges,1,math.pi/180,70)\n",
        "for x in lines:\n",
        "  rho,theta = x[0]\n",
        "  a = np.cos(theta)\n",
        "  b = np.sin(theta)\n",
        "  x0 = a*rho\n",
        "  y0 = b*rho\n",
        "  x1 = int(x0 + 1000*(-b))\n",
        "  y1 = int(y0 + 1000*(a))\n",
        "  x2 = int(x0 - 1000*(-b))\n",
        "  y2 = int(y0 - 1000*(a))  \n",
        "  cv2.line(kwadraty,(x1,y1),(x2,y2),(0,0,255))\n",
        "plt.imshow(kwadraty, 'gray')\n",
        "plt.axis('off')\n",
        "plt.show()"
      ]
    },
    {
      "cell_type": "markdown",
      "metadata": {
        "id": "sCtOBn_W2RUZ"
      },
      "source": [
        "9. Wyznacz odcinki obecne na obrazie za pomocą funkcji _HoughLinesP_. Wykryte odcinki wyrysuj na obrazie początkowym (UWAGA: wczytanym bez konwersji na graylevel). "
      ]
    },
    {
      "cell_type": "code",
      "execution_count": null,
      "metadata": {
        "id": "B07dvKq82RUZ"
      },
      "outputs": [],
      "source": [
        "kwadraty = cv2.imread('kwadraty.png')\n",
        "edges = cv2.Canny(kwadraty,70,150)\n",
        "lines_P = cv2.HoughLinesP(edges,1,np.pi/180,50,50,10)\n",
        "for x in lines_P:\n",
        "    x1,y1,x2,y2 = x[0]\n",
        "    cv2.line(kwadraty,(x1,y1),(x2,y2),(0,255,0),2)\n",
        "plt.imshow(kwadraty, 'gray')\n",
        "plt.axis('off')\n",
        "plt.show()"
      ]
    },
    {
      "cell_type": "markdown",
      "metadata": {
        "id": "Cv2qHKW92RUZ"
      },
      "source": [
        "### Transformata Hougha dla obrazu rzeczywistego.\n",
        "\n",
        "Bazując na kodzie stworzonym w punkcie B wyszukamy linie na obrazie rzeczywistym.\n",
        "   1. Wczytaj obraz \"lab112.png\". Wyświetl go.\n",
        "   2. Wykorzystując wszystkie poznane techniki przetwarzania obrazów (filtracja, przekształcenia morfologiczne, binaryzację, detekcję krawędzi) wyodrębnij krawędzie samych kwadratów - tak aby były jak najlepszej jakości (cienkie) - jednocześnie eliminując z obrazu zakłócenia.\n",
        "   3. Wykorzystaj funkcje *hough_line* i *hough_line_peaks* do detekcji linii na obrazie, a następnie np. wykorzystując kod z punktu 8 poprzedniego ustępu wyrysuj na oryginalnym obrazie znalezione linie."
      ]
    },
    {
      "cell_type": "code",
      "execution_count": null,
      "metadata": {
        "id": "KOpb8SgwPLsX"
      },
      "outputs": [],
      "source": [
        "lab112 = cv2.imread('lab112.png',cv2.IMREAD_GRAYSCALE)\n",
        "plt.imshow(lab112,'gray')\n",
        "plt.title('Obraz oryginalny')"
      ]
    },
    {
      "cell_type": "code",
      "execution_count": null,
      "metadata": {
        "id": "DjM_Vs_b2RUa"
      },
      "outputs": [],
      "source": [
        "lab112 = cv2.imread('lab112.png',cv2.IMREAD_GRAYSCALE)\n",
        "plt.imshow(lab112,'gray')\n",
        "lab112[:,475:]=0\n",
        "\n",
        "def binaryzacja(image,thre):\n",
        "    for i in range(np.shape(image)[0]):\n",
        "        for j in range(np.shape(image)[1]):\n",
        "            if image[i][j] < thre:\n",
        "                image[i][j] = 0\n",
        "            else:\n",
        "                image[i][j] = 1\n",
        "    \n",
        "    #plt.imshow(image,'gray')\n",
        "    #plt.show()\n",
        "    return image\n",
        "\n",
        "\n",
        "lab112_bin = binaryzacja(lab112,50)\n",
        "\n",
        "def crossing(LoG, thr):\n",
        "    X,Y = np.shape(LoG)\n",
        "    result = np.zeros((X,Y))\n",
        "    for i in range(0,X-2):\n",
        "        for j in range(0,Y-2):\n",
        "            extract = LoG[i:i+3,j:j+3]\n",
        "            max = extract.max()\n",
        "            min = extract.min()\n",
        "            if np.sign(max) != np.sign(min):\n",
        "                if LoG[i][j] >0:\n",
        "                    result[i][j]= LoG[i][j]+np.abs(min)\n",
        "                else:\n",
        "                    result[i][j]= np.abs(LoG[i][j])+ max\n",
        "\n",
        "    result_norm=cv2.normalize(result,None,0,255,cv2.NORM_MINMAX)\n",
        "    for i in range(X):\n",
        "        for j in range(Y):\n",
        "            if result_norm[i][j] < thr:\n",
        "                result_norm[i][j] = 0\n",
        "            else:\n",
        "                result_norm[i][j] = 1*255 \n",
        "            \n",
        "    final_result = cv2.medianBlur(result_norm.astype('uint8'),3)\n",
        "    return final_result\n",
        "\n",
        "\n",
        "edges = cv2.Canny(crossing(lab112_bin,40),50,150,apertureSize = 3)\n",
        "\n",
        "\n",
        "H, theta, rho = hough_line(edges)\n",
        "H_2, theta_2, rho_2 = hough_line_peaks(H, theta, rho)\n",
        "theta2 = theta_2\n",
        "rho2 = rho_2\n",
        "lab112_color = cv2.cvtColor(lab112, cv2.COLOR_GRAY2BGR)\n",
        "\n",
        "for i in range(0,len(theta2)):\n",
        "    rho = rho2[i]\n",
        "    theta = theta2[i]\n",
        "    a = np.cos(theta)\n",
        "    b = np.sin(theta)\n",
        "    x0 = a*rho\n",
        "    y0 = b*rho\n",
        "    x1 = int(x0 + 1000*(-b))\n",
        "    y1 = int(y0 + 1000*(a))\n",
        "    x2 = int(x0 - 1000*(-b))\n",
        "    y2 = int(y0 - 1000*(a))\n",
        "        \n",
        "    pt1 = (x1, y1)\n",
        "    pt2 = (x2, y2)\n",
        "    cv2.line(lab112_color, pt1, pt2, (255,0,0), 2, cv2.LINE_AA)\n",
        "\n",
        "plt.imshow(lab112_color)\n",
        "plt.title('Linie na podstawie krawędzi')"
      ]
    },
    {
      "cell_type": "markdown",
      "metadata": {
        "id": "y3ebguapXFE_"
      },
      "source": [
        "Na podstawie linii możliwe jest odwzorowanie kształtu kwadratów - rekonstrukcja powiodła się"
      ]
    },
    {
      "cell_type": "markdown",
      "metadata": {
        "id": "d6c-QMbv2RUa"
      },
      "source": [
        "4. Wczytaj obraz \"dom.png\". Wypróbuj działanie transformacji Hougha na tym obrazie z wykorzystaniem funkcji _cv2.HoughLinesP_  (oczywiście po odpowiednich przekształceniach). Postaraj się tak przygotować obraz z krawędziami i dobrać parametry aby wyrysować na oryginalnym obrazie odcinki obejmujące zarysy domu. Weź pod uwage dodatkowe parametry funkcji, takie jak:   minLineLength, maxLineGap."
      ]
    },
    {
      "cell_type": "code",
      "execution_count": null,
      "metadata": {
        "id": "H4ASBar82RUa"
      },
      "outputs": [],
      "source": [
        "dom_col = cv2.imread('dom.png')\n",
        "dom = cv2.imread('dom.png',cv2.IMREAD_GRAYSCALE)\n",
        "plt.imshow(dom,'gray')\n",
        "plt.title('Dom-obraz oryginalny')\n",
        "plt.axis('off')\n",
        "plt.show()\n"
      ]
    },
    {
      "cell_type": "code",
      "execution_count": 34,
      "metadata": {
        "id": "CkYcMJZvRNZt"
      },
      "outputs": [],
      "source": [
        "blur = cv2.GaussianBlur(dom,(7,7),2)\n",
        "lap_blur = cv2.Laplacian(blur,cv2.CV_32F)\n",
        "house_cross = crossing(lap_blur,40)"
      ]
    },
    {
      "cell_type": "code",
      "execution_count": null,
      "metadata": {
        "id": "1Sb2x7sNRshy"
      },
      "outputs": [],
      "source": [
        "dom_color = cv2.imread('dom.png')\n",
        "dom = cv2.imread('dom.png',cv2.IMREAD_GRAYSCALE)\n",
        "\n",
        "dom_can=cv2.Canny(house_cross,10,30,None,3,1)\n",
        "lines = cv2.HoughLinesP(dom_can,1,np.pi/180,40,minLineLength=35,maxLineGap=5)\n",
        "for line in lines:\n",
        "    x1,y1,x2,y2 = line[0]\n",
        "    cv2.line(dom_color,(x1,y1),(x2,y2),(255,0,0),2)\n",
        "    \n",
        "plt.imshow(dom_color,'gray')\n",
        "plt.title('Obraz dom wraz z zaznaczonymi punktami')\n",
        "plt.axis('off')\n",
        "plt.show()"
      ]
    }
  ],
  "metadata": {
    "celltoolbar": "Raw Cell Format",
    "colab": {
      "collapsed_sections": [],
      "name": "11_Hough.ipynb",
      "provenance": []
    },
    "kernelspec": {
      "display_name": "Python 3",
      "language": "python",
      "name": "python3"
    },
    "language_info": {
      "codemirror_mode": {
        "name": "ipython",
        "version": 3
      },
      "file_extension": ".py",
      "mimetype": "text/x-python",
      "name": "python",
      "nbconvert_exporter": "python",
      "pygments_lexer": "ipython3",
      "version": "3.9.1"
    }
  },
  "nbformat": 4,
  "nbformat_minor": 0
}
