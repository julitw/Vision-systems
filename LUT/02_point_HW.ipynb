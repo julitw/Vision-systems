{
 "cells": [
  {
   "cell_type": "markdown",
   "metadata": {
    "collapsed": false
   },
   "source": [
    "# Zadanie domowe\n",
    "\n",
    "W przypadku obrazów w odcieniach szarości pojedynczy piksel z zakresu [0; 255] reprezentowany jest jako 8-bitowa liczba bez znaku.\n",
    "Pewnym rozszerzeniem analizy sposobu reprezentacji obrazu może być następujący eksperyment.\n",
    "Załóżmy, że z każdego z 8 bitów możemy stworzyć pojedynczy obraz binarny (ang. _bit-plane slicing_).\n",
    "Dla obrazka _100zloty.jpg_ (https://raw.githubusercontent.com/vision-agh/poc_sw/master/02_Point/100zloty.jpg) stwórz 8 obrazów, z których każdy powinien zawierać jedną płaszczyznę bitową.\n",
    "Podpowiedź $-$ warto sprawdzić, jak realizuje się bitowe operacje logiczne.\n",
    "Zastosowanie takiej dekompozycji obrazu pozwala na analizę ,,ważności'' poszczególnych bitów.\n",
    "Jest to użyteczne w kwantyzacji, ale także w kompresji.\n",
    "\n",
    "W drugim etapie zadania proszę spróbować odtworzyć obraz oryginalny z mniejszej liczby obrazów binarnych.\n",
    "Warto zacząć od dwóch najbardziej znaczących bitów, a później dodawać kolejne.\n",
    "Należy utworzyć co najmniej trzy wersje zrekonstruowanych obrazów.\n",
    "Podpowiedź $-$ rekonstrukcja obrazu to mnożenie przez odpowiednią potęgę liczby 2 (przesunięcie bitowe) oraz dodawanie."
   ]
  },
  {
   "cell_type": "code",
   "execution_count": null,
   "metadata": {},
   "outputs": [],
   "source": [
    "\n",
    "import cv2\n",
    "import numpy as np\n",
    "import matplotlib.pyplot as plt\n",
    "import os\n",
    "\n",
    "\n",
    "if not os.path.exists(\"100zloty.jpg\") :\n",
    "    !wget https://raw.githubusercontent.com/vision-agh/poc_sw/master/02_Point/100zloty.jpg\n",
    "_100zloty=cv2.imread(\"100zloty.jpg\")\n",
    "\n",
    "_100zloty = cv2.cvtColor(_100zloty, cv2.COLOR_BGR2RGB)\n",
    "_100zloty = cv2.cvtColor(_100zloty, cv2.COLOR_RGB2GRAY)\n",
    "size = np.shape(_100zloty)\n",
    "tab_of_bits = [0,1,2,3,4,5,6,7]\n",
    "tab = np.ones(size)\n",
    "set_of_planes= []\n",
    "\n",
    "for x in tab_of_bits:\n",
    "    tabtab = tab*2**x\n",
    "    tabtab2=tabtab.astype('uint8')\n",
    "    finally_image =cv2.bitwise_and(_100zloty, tabtab2)\n",
    "    set_of_planes.append(finally_image)\n",
    "    plt.xticks([]), plt.yticks([])\n",
    "    plt.imshow(finally_image)\n",
    "    plt.show()\n",
    "\n",
    "\n",
    "x = set_of_planes[0]\n",
    "\n",
    "tab_of_bits = [1,2,3,4,5,6,7]\n",
    "for i in tab_of_bits:\n",
    "    x = cv2.add(x,set_of_planes[i])\n",
    "    plt.title(f\"Suma bitów od numeru 0 do numeru {i}\")\n",
    "    plt.xticks([]), plt.yticks([])\n",
    "    plt.imshow(x)\n",
    "    plt.show()\n"
   ]
  },
  {
   "cell_type": "code",
   "execution_count": null,
   "metadata": {},
   "outputs": [],
   "source": [
    "\n"
   ]
  },
  {
   "cell_type": "markdown",
   "metadata": {},
   "source": []
  }
 ],
 "metadata": {
  "kernelspec": {
   "display_name": "Python 3",
   "language": "python",
   "name": "python3"
  },
  "language_info": {
   "codemirror_mode": {
    "name": "ipython",
    "version": 3
   },
   "file_extension": ".py",
   "mimetype": "text/x-python",
   "name": "python",
   "nbconvert_exporter": "python",
   "pygments_lexer": "ipython3",
   "version": "3.8.6"
  }
 },
 "nbformat": 4,
 "nbformat_minor": 0
}
